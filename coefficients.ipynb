{
 "cells": [
  {
   "cell_type": "code",
   "execution_count": 1,
   "id": "3046418c",
   "metadata": {},
   "outputs": [],
   "source": [
    "import numpy as np\n",
    "import math\n",
    "import matplotlib.pyplot as plt\n",
    "from PIL import Image\n",
    "from python_tsp.distances import euclidean_distance_matrix\n",
    "from python_tsp.heuristics import solve_tsp_local_search\n",
    "\n",
    "np.set_printoptions(suppress=True)"
   ]
  },
  {
   "cell_type": "code",
   "execution_count": 2,
   "id": "96ca1e59",
   "metadata": {},
   "outputs": [
    {
     "data": {
      "image/png": "[encoded data removed]",
      "text/plain": [
       "<PIL.PngImagePlugin.PngImageFile image mode=P size=150x150 at 0x1C8FB858C70>"
      ]
     },
     "execution_count": 2,
     "metadata": {},
     "output_type": "execute_result"
    }
   ],
   "source": [
    "raw_image = Image.open('pixels.png')\n",
    "raw_image"
   ]
  },
  {
   "cell_type": "code",
   "execution_count": 3,
   "id": "a3d8d0a1",
   "metadata": {},
   "outputs": [
    {
     "data": {
      "text/plain": [
       "(150, 150)"
      ]
     },
     "execution_count": 3,
     "metadata": {},
     "output_type": "execute_result"
    }
   ],
   "source": [
    "# Usually, this array transformation is supposed to give us\n",
    "# a 3D ndarray of RGBA values for each pixel.\n",
    "# This one, for reasons that are probably \"python magic\",\n",
    "# gives us a 2D pseudo-bool ndarray where transparent\n",
    "# pixels are 1 and non-transparent ones are 0.\n",
    "all_pixels = np.asarray(raw_image)\n",
    "all_pixels.shape"
   ]
  },
  {
   "cell_type": "code",
   "execution_count": 4,
   "id": "481c1a7a",
   "metadata": {},
   "outputs": [
    {
     "data": {
      "text/plain": [
       "array([0, 1], dtype=uint8)"
      ]
     },
     "execution_count": 4,
     "metadata": {},
     "output_type": "execute_result"
    }
   ],
   "source": [
    "np.unique(all_pixels)"
   ]
  },
  {
   "cell_type": "code",
   "execution_count": 5,
   "id": "2e79df6f",
   "metadata": {},
   "outputs": [
    {
     "data": {
      "text/plain": [
       "<matplotlib.collections.PathCollection at 0x1c8fe282700>"
      ]
     },
     "execution_count": 5,
     "metadata": {},
     "output_type": "execute_result"
    },
    {
     "data": {
      "image/png": "[encoded data removed]",
      "text/plain": [
       "<Figure size 432x288 with 1 Axes>"
      ]
     },
     "metadata": {
      "needs_background": "light"
     },
     "output_type": "display_data"
    }
   ],
   "source": [
    "# So we end up needing the indices of the zeroes.\n",
    "pixels = (all_pixels == 0).nonzero()\n",
    "# Graphics coördinates start from the top left, and maths\n",
    "# coördinates from the bottom left, so we need to flip the\n",
    "# y-axis in the plot.\n",
    "# The eventual goal is to draw this in CSS which starts from\n",
    "# top left, so we actually want to keep the values as they are now.\n",
    "plt.scatter(pixels[1], pixels[0] * -1)"
   ]
  },
  {
   "cell_type": "markdown",
   "id": "bfbf16d8",
   "metadata": {},
   "source": [
    "what a cutie :3"
   ]
  },
  {
   "cell_type": "code",
   "execution_count": 6,
   "id": "e2a4ae25",
   "metadata": {},
   "outputs": [],
   "source": [
    "# What nonzero() returned was a 2×n array where the first row was the\n",
    "# row indices/y-coördinates of each point, and the second was the\n",
    "# column indices/x-coördinates.\n",
    "# Let's massage this into a n×2 array of each point's coördinates\n",
    "points = np.transpose([pixels[1], pixels[0]])"
   ]
  },
  {
   "cell_type": "code",
   "execution_count": 9,
   "id": "f21d9025",
   "metadata": {},
   "outputs": [
    {
     "data": {
      "text/plain": [
       "[<matplotlib.lines.Line2D at 0x1c880149f70>]"
      ]
     },
     "execution_count": 9,
     "metadata": {},
     "output_type": "execute_result"
    },
    {
     "data": {
      "image/png": "[encoded data removed]",
      "text/plain": [
       "<Figure size 432x288 with 1 Axes>"
      ]
     },
     "metadata": {
      "needs_background": "light"
     },
     "output_type": "display_data"
    }
   ],
   "source": [
    "# The points now need to be sorted into a path along the outline.\n",
    "# There's probably a smarter way to do this, even sorting them manually,\n",
    "# but it's so much easier to throw them into a Travelling Salesman solver.\n",
    "distances = euclidean_distance_matrix(points)\n",
    "permutation, distance = solve_tsp_local_search(distances)\n",
    "# Let's see how it looks!\n",
    "plt.plot(points[permutation,0], points[permutation,1] * -1)\n",
    "# If it looks bad, try refreshing the cell a bunch\n",
    "# to get a different seed for the heuristic"
   ]
  },
  {
   "cell_type": "markdown",
   "id": "97e53340",
   "metadata": {},
   "source": [
    "not *as* cute, but ok!"
   ]
  },
  {
   "cell_type": "code",
   "execution_count": 10,
   "id": "761ec700",
   "metadata": {},
   "outputs": [],
   "source": [
    "# Massaging the data some more before running FFT.\n",
    "sorted_points = points[permutation]\n",
    "# We have (x, y) coördinate pairs, but want complex\n",
    "# numbers.\n",
    "as_complex = sorted_points[:,0] + (1j * sorted_points[:,1])\n",
    "# For scalability, instead of pixel positions, convert the coördinates\n",
    "# to percentages of the image size\n",
    "normalized = as_complex / 150"
   ]
  },
  {
   "cell_type": "code",
   "execution_count": 11,
   "id": "ac9d0933",
   "metadata": {},
   "outputs": [
    {
     "data": {
      "text/plain": [
       "(83,)"
      ]
     },
     "execution_count": 11,
     "metadata": {},
     "output_type": "execute_result"
    }
   ],
   "source": [
    "# Now we can run the FFT\n",
    "fourier_coeffs = np.fft.fft(normalized, norm='forward')\n",
    "fourier_coeffs.shape"
   ]
  },
  {
   "cell_type": "code",
   "execution_count": 12,
   "id": "cd8fcb11",
   "metadata": {},
   "outputs": [
    {
     "data": {
      "text/plain": [
       "[<matplotlib.lines.Line2D at 0x1c8801beb80>]"
      ]
     },
     "execution_count": 12,
     "metadata": {},
     "output_type": "execute_result"
    },
    {
     "data": {
      "image/png": "[encoded data removed]",
      "text/plain": [
       "<Figure size 432x288 with 1 Axes>"
      ]
     },
     "metadata": {
      "needs_background": "light"
     },
     "output_type": "display_data"
    }
   ],
   "source": [
    "# Reversing the FFT to check the image still looks fine\n",
    "inverse = np.fft.ifft(fourier_coeffs, norm='forward')\n",
    "plt.plot(inverse.real, inverse.imag * -1)"
   ]
  },
  {
   "cell_type": "code",
   "execution_count": 14,
   "id": "b1dedac5",
   "metadata": {
    "scrolled": true
   },
   "outputs": [
    {
     "name": "stdout",
     "output_type": "stream",
     "text": [
      ".traced {\n",
      "  animation: trace 40s linear forwards infinite;\n",
      "}\n",
      "\n",
      "@keyframes trace {\n",
      "  0% {\n",
      "    stroke-dashoffset: 0;\n",
      "  }\n",
      "  100% {\n",
      "    stroke-dashoffset: 166;\n",
      "  }\n",
      "}\n",
      "\n"
     ]
    }
   ],
   "source": [
    "# This animation will draw and erase the shape.\n",
    "# References: \n",
    "# https://css-tricks.com/svg-line-animation-works/\n",
    "# https://css-tricks.com/a-trick-that-makes-drawing-svg-lines-way-easier/\n",
    "anim_duration = 20\n",
    "line_anim_css_template = '.traced {{\\n\\\n",
    "  animation: trace {svg_anim_duration}s linear forwards infinite;\\n\\\n",
    "}}\\n\\\n",
    "\\n\\\n",
    "@keyframes trace {{\\n\\\n",
    "  0% {{\\n\\\n",
    "    stroke-dashoffset: 0;\\n\\\n",
    "  }}\\n\\\n",
    "  100% {{\\n\\\n",
    "    stroke-dashoffset: {twice_num_points};\\n\\\n",
    "  }}\\n\\\n",
    "}}\\n'\n",
    "line_anim_css = line_anim_css_template.format(\n",
    "    svg_anim_duration = anim_duration * 2,\n",
    "    twice_num_points = len(points) * 2\n",
    ")\n",
    "print(line_anim_css)"
   ]
  },
  {
   "cell_type": "code",
   "execution_count": 15,
   "id": "4233e2fd",
   "metadata": {},
   "outputs": [
    {
     "name": "stdout",
     "output_type": "stream",
     "text": [
      "<line class=\"traced\" x1=\"176.67\" y1=\"16.67\" x2=\"140.00\" y2=\"6.67\" stroke=\"black\" pathLength=\"1\" stroke-dasharray=\"0 1 83 82\" />\n",
      "<line class=\"traced\" x1=\"203.33\" y1=\"30.00\" x2=\"176.67\" y2=\"16.67\" stroke=\"black\" pathLength=\"1\" stroke-dasharray=\"0 2 83 81\" />\n",
      "<line class=\"traced\" x1=\"230.00\" y1=\"86.67\" x2=\"203.33\" y2=\"30.00\" stroke=\"black\" pathLength=\"1\" stroke-dasharray=\"0 3 83 80\" />\n",
      "<line class=\"traced\" x1=\"230.00\" y1=\"110.00\" x2=\"230.00\" y2=\"86.67\" stroke=\"black\" pathLength=\"1\" stroke-dasharray=\"0 4 83 79\" />\n",
      "<line class=\"traced\" x1=\"230.00\" y1=\"133.33\" x2=\"230.00\" y2=\"110.00\" stroke=\"black\" pathLength=\"1\" stroke-dasharray=\"0 5 83 78\" />\n",
      "<line class=\"traced\" x1=\"260.00\" y1=\"126.67\" x2=\"230.00\" y2=\"133.33\" stroke=\"black\" pathLength=\"1\" stroke-dasharray=\"0 6 83 77\" />\n",
      "<line class=\"traced\" x1=\"293.33\" y1=\"123.33\" x2=\"260.00\" y2=\"126.67\" stroke=\"black\" pathLength=\"1\" stroke-dasharray=\"0 7 83 76\" />\n",
      "<line class=\"traced\" x1=\"303.33\" y1=\"106.67\" x2=\"293.33\" y2=\"123.33\" stroke=\"black\" pathLength=\"1\" stroke-dasharray=\"0 8 83 75\" />\n",
      "<line class=\"traced\" x1=\"316.67\" y1=\"90.00\" x2=\"303.33\" y2=\"106.67\" stroke=\"black\" pathLength=\"1\" stroke-dasharray=\"0 9 83 74\" />\n",
      "<line class=\"traced\" x1=\"336.67\" y1=\"70.00\" x2=\"316.67\" y2=\"90.00\" stroke=\"black\" pathLength=\"1\" stroke-dasharray=\"0 10 83 73\" />\n",
      "<line class=\"traced\" x1=\"363.33\" y1=\"60.00\" x2=\"336.67\" y2=\"70.00\" stroke=\"black\" pathLength=\"1\" stroke-dasharray=\"0 11 83 72\" />\n",
      "<line class=\"traced\" x1=\"393.33\" y1=\"60.00\" x2=\"363.33\" y2=\"60.00\" stroke=\"black\" pathLength=\"1\" stroke-dasharray=\"0 12 83 71\" />\n",
      "<line class=\"traced\" x1=\"423.33\" y1=\"73.33\" x2=\"393.33\" y2=\"60.00\" stroke=\"black\" pathLength=\"1\" stroke-dasharray=\"0 13 83 70\" />\n",
      "<line class=\"traced\" x1=\"460.00\" y1=\"106.67\" x2=\"423.33\" y2=\"73.33\" stroke=\"black\" pathLength=\"1\" stroke-dasharray=\"0 14 83 69\" />\n",
      "<line class=\"traced\" x1=\"456.67\" y1=\"143.33\" x2=\"460.00\" y2=\"106.67\" stroke=\"black\" pathLength=\"1\" stroke-dasharray=\"0 15 83 68\" />\n",
      "<line class=\"traced\" x1=\"440.00\" y1=\"170.00\" x2=\"456.67\" y2=\"143.33\" stroke=\"black\" pathLength=\"1\" stroke-dasharray=\"0 16 83 67\" />\n",
      "<line class=\"traced\" x1=\"453.33\" y1=\"190.00\" x2=\"440.00\" y2=\"170.00\" stroke=\"black\" pathLength=\"1\" stroke-dasharray=\"0 17 83 66\" />\n",
      "<line class=\"traced\" x1=\"466.67\" y1=\"213.33\" x2=\"453.33\" y2=\"190.00\" stroke=\"black\" pathLength=\"1\" stroke-dasharray=\"0 18 83 65\" />\n",
      "<line class=\"traced\" x1=\"473.33\" y1=\"243.33\" x2=\"466.67\" y2=\"213.33\" stroke=\"black\" pathLength=\"1\" stroke-dasharray=\"0 19 83 64\" />\n",
      "<line class=\"traced\" x1=\"476.67\" y1=\"263.33\" x2=\"473.33\" y2=\"243.33\" stroke=\"black\" pathLength=\"1\" stroke-dasharray=\"0 20 83 63\" />\n",
      "<line class=\"traced\" x1=\"476.67\" y1=\"286.67\" x2=\"476.67\" y2=\"263.33\" stroke=\"black\" pathLength=\"1\" stroke-dasharray=\"0 21 83 62\" />\n",
      "<line class=\"traced\" x1=\"470.00\" y1=\"316.67\" x2=\"476.67\" y2=\"286.67\" stroke=\"black\" pathLength=\"1\" stroke-dasharray=\"0 22 83 61\" />\n",
      "<line class=\"traced\" x1=\"453.33\" y1=\"343.33\" x2=\"470.00\" y2=\"316.67\" stroke=\"black\" pathLength=\"1\" stroke-dasharray=\"0 23 83 60\" />\n",
      "<line class=\"traced\" x1=\"416.67\" y1=\"383.33\" x2=\"453.33\" y2=\"343.33\" stroke=\"black\" pathLength=\"1\" stroke-dasharray=\"0 24 83 59\" />\n",
      "<line class=\"traced\" x1=\"433.33\" y1=\"416.67\" x2=\"416.67\" y2=\"383.33\" stroke=\"black\" pathLength=\"1\" stroke-dasharray=\"0 25 83 58\" />\n",
      "<line class=\"traced\" x1=\"406.67\" y1=\"393.33\" x2=\"433.33\" y2=\"416.67\" stroke=\"black\" pathLength=\"1\" stroke-dasharray=\"0 26 83 57\" />\n",
      "<line class=\"traced\" x1=\"390.00\" y1=\"403.33\" x2=\"406.67\" y2=\"393.33\" stroke=\"black\" pathLength=\"1\" stroke-dasharray=\"0 27 83 56\" />\n",
      "<line class=\"traced\" x1=\"363.33\" y1=\"420.00\" x2=\"390.00\" y2=\"403.33\" stroke=\"black\" pathLength=\"1\" stroke-dasharray=\"0 28 83 55\" />\n",
      "<line class=\"traced\" x1=\"363.33\" y1=\"453.33\" x2=\"363.33\" y2=\"420.00\" stroke=\"black\" pathLength=\"1\" stroke-dasharray=\"0 29 83 54\" />\n",
      "<line class=\"traced\" x1=\"336.67\" y1=\"433.33\" x2=\"363.33\" y2=\"453.33\" stroke=\"black\" pathLength=\"1\" stroke-dasharray=\"0 30 83 53\" />\n",
      "<line class=\"traced\" x1=\"310.00\" y1=\"443.33\" x2=\"336.67\" y2=\"433.33\" stroke=\"black\" pathLength=\"1\" stroke-dasharray=\"0 31 83 52\" />\n",
      "<line class=\"traced\" x1=\"280.00\" y1=\"453.33\" x2=\"310.00\" y2=\"443.33\" stroke=\"black\" pathLength=\"1\" stroke-dasharray=\"0 32 83 51\" />\n",
      "<line class=\"traced\" x1=\"286.67\" y1=\"486.67\" x2=\"280.00\" y2=\"453.33\" stroke=\"black\" pathLength=\"1\" stroke-dasharray=\"0 33 83 50\" />\n",
      "<line class=\"traced\" x1=\"263.33\" y1=\"460.00\" x2=\"286.67\" y2=\"486.67\" stroke=\"black\" pathLength=\"1\" stroke-dasharray=\"0 34 83 49\" />\n",
      "<line class=\"traced\" x1=\"236.67\" y1=\"466.67\" x2=\"263.33\" y2=\"460.00\" stroke=\"black\" pathLength=\"1\" stroke-dasharray=\"0 35 83 48\" />\n",
      "<line class=\"traced\" x1=\"186.67\" y1=\"466.67\" x2=\"236.67\" y2=\"466.67\" stroke=\"black\" pathLength=\"1\" stroke-dasharray=\"0 36 83 47\" />\n",
      "<line class=\"traced\" x1=\"156.67\" y1=\"466.67\" x2=\"186.67\" y2=\"466.67\" stroke=\"black\" pathLength=\"1\" stroke-dasharray=\"0 37 83 46\" />\n",
      "<line class=\"traced\" x1=\"126.67\" y1=\"460.00\" x2=\"156.67\" y2=\"466.67\" stroke=\"black\" pathLength=\"1\" stroke-dasharray=\"0 38 83 45\" />\n",
      "<line class=\"traced\" x1=\"100.00\" y1=\"450.00\" x2=\"126.67\" y2=\"460.00\" stroke=\"black\" pathLength=\"1\" stroke-dasharray=\"0 39 83 44\" />\n",
      "<line class=\"traced\" x1=\"83.33\" y1=\"443.33\" x2=\"100.00\" y2=\"450.00\" stroke=\"black\" pathLength=\"1\" stroke-dasharray=\"0 40 83 43\" />\n",
      "<line class=\"traced\" x1=\"66.67\" y1=\"433.33\" x2=\"83.33\" y2=\"443.33\" stroke=\"black\" pathLength=\"1\" stroke-dasharray=\"0 41 83 42\" />\n",
      "<line class=\"traced\" x1=\"30.00\" y1=\"453.33\" x2=\"66.67\" y2=\"433.33\" stroke=\"black\" pathLength=\"1\" stroke-dasharray=\"0 42 83 41\" />\n",
      "<line class=\"traced\" x1=\"56.67\" y1=\"420.00\" x2=\"30.00\" y2=\"453.33\" stroke=\"black\" pathLength=\"1\" stroke-dasharray=\"0 43 83 40\" />\n",
      "<line class=\"traced\" x1=\"40.00\" y1=\"393.33\" x2=\"56.67\" y2=\"420.00\" stroke=\"black\" pathLength=\"1\" stroke-dasharray=\"0 44 83 39\" />\n",
      "<line class=\"traced\" x1=\"30.00\" y1=\"376.67\" x2=\"40.00\" y2=\"393.33\" stroke=\"black\" pathLength=\"1\" stroke-dasharray=\"0 45 83 38\" />\n",
      "<line class=\"traced\" x1=\"23.33\" y1=\"356.67\" x2=\"30.00\" y2=\"376.67\" stroke=\"black\" pathLength=\"1\" stroke-dasharray=\"0 46 83 37\" />\n",
      "<line class=\"traced\" x1=\"20.00\" y1=\"330.00\" x2=\"23.33\" y2=\"356.67\" stroke=\"black\" pathLength=\"1\" stroke-dasharray=\"0 47 83 36\" />\n",
      "<line class=\"traced\" x1=\"43.33\" y1=\"320.00\" x2=\"20.00\" y2=\"330.00\" stroke=\"black\" pathLength=\"1\" stroke-dasharray=\"0 48 83 35\" />\n",
      "<line class=\"traced\" x1=\"56.67\" y1=\"320.00\" x2=\"43.33\" y2=\"320.00\" stroke=\"black\" pathLength=\"1\" stroke-dasharray=\"0 49 83 34\" />\n",
      "<line class=\"traced\" x1=\"66.67\" y1=\"336.67\" x2=\"56.67\" y2=\"320.00\" stroke=\"black\" pathLength=\"1\" stroke-dasharray=\"0 50 83 33\" />\n",
      "<line class=\"traced\" x1=\"83.33\" y1=\"343.33\" x2=\"66.67\" y2=\"336.67\" stroke=\"black\" pathLength=\"1\" stroke-dasharray=\"0 51 83 32\" />\n",
      "<line class=\"traced\" x1=\"96.67\" y1=\"333.33\" x2=\"83.33\" y2=\"343.33\" stroke=\"black\" pathLength=\"1\" stroke-dasharray=\"0 52 83 31\" />\n",
      "<line class=\"traced\" x1=\"90.00\" y1=\"360.00\" x2=\"96.67\" y2=\"333.33\" stroke=\"black\" pathLength=\"1\" stroke-dasharray=\"0 53 83 30\" />\n",
      "<line class=\"traced\" x1=\"96.67\" y1=\"373.33\" x2=\"90.00\" y2=\"360.00\" stroke=\"black\" pathLength=\"1\" stroke-dasharray=\"0 54 83 29\" />\n",
      "<line class=\"traced\" x1=\"113.33\" y1=\"370.00\" x2=\"96.67\" y2=\"373.33\" stroke=\"black\" pathLength=\"1\" stroke-dasharray=\"0 55 83 28\" />\n",
      "<line class=\"traced\" x1=\"133.33\" y1=\"373.33\" x2=\"113.33\" y2=\"370.00\" stroke=\"black\" pathLength=\"1\" stroke-dasharray=\"0 56 83 27\" />\n",
      "<line class=\"traced\" x1=\"136.67\" y1=\"363.33\" x2=\"133.33\" y2=\"373.33\" stroke=\"black\" pathLength=\"1\" stroke-dasharray=\"0 57 83 26\" />\n",
      "<line class=\"traced\" x1=\"170.00\" y1=\"360.00\" x2=\"136.67\" y2=\"363.33\" stroke=\"black\" pathLength=\"1\" stroke-dasharray=\"0 58 83 25\" />\n",
      "<line class=\"traced\" x1=\"180.00\" y1=\"353.33\" x2=\"170.00\" y2=\"360.00\" stroke=\"black\" pathLength=\"1\" stroke-dasharray=\"0 59 83 24\" />\n",
      "<line class=\"traced\" x1=\"186.67\" y1=\"343.33\" x2=\"180.00\" y2=\"353.33\" stroke=\"black\" pathLength=\"1\" stroke-dasharray=\"0 60 83 23\" />\n",
      "<line class=\"traced\" x1=\"180.00\" y1=\"320.00\" x2=\"186.67\" y2=\"343.33\" stroke=\"black\" pathLength=\"1\" stroke-dasharray=\"0 61 83 22\" />\n",
      "<line class=\"traced\" x1=\"160.00\" y1=\"316.67\" x2=\"180.00\" y2=\"320.00\" stroke=\"black\" pathLength=\"1\" stroke-dasharray=\"0 62 83 21\" />\n",
      "<line class=\"traced\" x1=\"146.67\" y1=\"330.00\" x2=\"160.00\" y2=\"316.67\" stroke=\"black\" pathLength=\"1\" stroke-dasharray=\"0 63 83 20\" />\n",
      "<line class=\"traced\" x1=\"150.00\" y1=\"346.67\" x2=\"146.67\" y2=\"330.00\" stroke=\"black\" pathLength=\"1\" stroke-dasharray=\"0 64 83 19\" />\n",
      "<line class=\"traced\" x1=\"100.00\" y1=\"323.33\" x2=\"150.00\" y2=\"346.67\" stroke=\"black\" pathLength=\"1\" stroke-dasharray=\"0 65 83 18\" />\n",
      "<line class=\"traced\" x1=\"90.00\" y1=\"300.00\" x2=\"100.00\" y2=\"323.33\" stroke=\"black\" pathLength=\"1\" stroke-dasharray=\"0 66 83 17\" />\n",
      "<line class=\"traced\" x1=\"70.00\" y1=\"300.00\" x2=\"90.00\" y2=\"300.00\" stroke=\"black\" pathLength=\"1\" stroke-dasharray=\"0 67 83 16\" />\n",
      "<line class=\"traced\" x1=\"56.67\" y1=\"310.00\" x2=\"70.00\" y2=\"300.00\" stroke=\"black\" pathLength=\"1\" stroke-dasharray=\"0 68 83 15\" />\n",
      "<line class=\"traced\" x1=\"20.00\" y1=\"310.00\" x2=\"56.67\" y2=\"310.00\" stroke=\"black\" pathLength=\"1\" stroke-dasharray=\"0 69 83 14\" />\n",
      "<line class=\"traced\" x1=\"23.33\" y1=\"290.00\" x2=\"20.00\" y2=\"310.00\" stroke=\"black\" pathLength=\"1\" stroke-dasharray=\"0 70 83 13\" />\n",
      "<line class=\"traced\" x1=\"33.33\" y1=\"266.67\" x2=\"23.33\" y2=\"290.00\" stroke=\"black\" pathLength=\"1\" stroke-dasharray=\"0 71 83 12\" />\n",
      "<line class=\"traced\" x1=\"46.67\" y1=\"243.33\" x2=\"33.33\" y2=\"266.67\" stroke=\"black\" pathLength=\"1\" stroke-dasharray=\"0 72 83 11\" />\n",
      "<line class=\"traced\" x1=\"66.67\" y1=\"220.00\" x2=\"46.67\" y2=\"243.33\" stroke=\"black\" pathLength=\"1\" stroke-dasharray=\"0 73 83 10\" />\n",
      "<line class=\"traced\" x1=\"86.67\" y1=\"200.00\" x2=\"66.67\" y2=\"220.00\" stroke=\"black\" pathLength=\"1\" stroke-dasharray=\"0 74 83 9\" />\n",
      "<line class=\"traced\" x1=\"106.67\" y1=\"186.67\" x2=\"86.67\" y2=\"200.00\" stroke=\"black\" pathLength=\"1\" stroke-dasharray=\"0 75 83 8\" />\n",
      "<line class=\"traced\" x1=\"126.67\" y1=\"173.33\" x2=\"106.67\" y2=\"186.67\" stroke=\"black\" pathLength=\"1\" stroke-dasharray=\"0 76 83 7\" />\n",
      "<line class=\"traced\" x1=\"130.00\" y1=\"163.33\" x2=\"126.67\" y2=\"173.33\" stroke=\"black\" pathLength=\"1\" stroke-dasharray=\"0 77 83 6\" />\n",
      "<line class=\"traced\" x1=\"120.00\" y1=\"143.33\" x2=\"130.00\" y2=\"163.33\" stroke=\"black\" pathLength=\"1\" stroke-dasharray=\"0 78 83 5\" />\n",
      "<line class=\"traced\" x1=\"103.33\" y1=\"113.33\" x2=\"120.00\" y2=\"143.33\" stroke=\"black\" pathLength=\"1\" stroke-dasharray=\"0 79 83 4\" />\n",
      "<line class=\"traced\" x1=\"93.33\" y1=\"86.67\" x2=\"103.33\" y2=\"113.33\" stroke=\"black\" pathLength=\"1\" stroke-dasharray=\"0 80 83 3\" />\n",
      "<line class=\"traced\" x1=\"86.67\" y1=\"56.67\" x2=\"93.33\" y2=\"86.67\" stroke=\"black\" pathLength=\"1\" stroke-dasharray=\"0 81 83 2\" />\n",
      "<line class=\"traced\" x1=\"96.67\" y1=\"20.00\" x2=\"86.67\" y2=\"56.67\" stroke=\"black\" pathLength=\"1\" stroke-dasharray=\"0 82 83 1\" />\n",
      "<line class=\"traced\" x1=\"140.00\" y1=\"6.67\" x2=\"96.67\" y2=\"20.00\" stroke=\"black\" pathLength=\"1\" stroke-dasharray=\"0 83 83 0\" />\n",
      "\n"
     ]
    }
   ],
   "source": [
    "# Converting the points to a set of SVG lines\n",
    "# Why not a path? The Fourier transform interprets the points\n",
    "# as being evenly spaced in time. If we animate the drawing of\n",
    "# a path, the time taken to draw the line between them is\n",
    "# proportional to their distance. The workaround is to draw a\n",
    "# series of lines, and declare their lengths as equal.\n",
    "\n",
    "# Interpret the percentages as coördinates on a 500px × 500px\n",
    "# canvas.\n",
    "# At 100px × 100px, the lines look too thick when the image\n",
    "# is scaled up.\n",
    "as_pixels = (normalized * 500)\n",
    "closed_path = np.append(as_pixels, as_pixels[0])\n",
    "\n",
    "line_template = '<line class=\"traced\" x1=\"{x1:.2f}\" y1=\"{y1:.2f}\" x2=\"{x2:.2f}\" y2=\"{y2:.2f}\" stroke=\"black\" pathLength=\"1\" \\\n",
    "stroke-dasharray=\"0 {line_num} {total_lines} {remaining}\" />'\n",
    "# We need a line from the last point back to the first one\n",
    "\n",
    "lines = [ ]\n",
    "for i in range(len(closed_path) - 1):\n",
    "    p1 = closed_path[i]\n",
    "    p2 = closed_path[i+1]\n",
    "    line = line_template.format(\n",
    "        x1 = p2.real,\n",
    "        y1 = p2.imag,\n",
    "        x2 = p1.real,\n",
    "        y2 = p1.imag,\n",
    "        line_num = i + 1,\n",
    "        total_lines = len(as_pixels),\n",
    "        remaining = len(as_pixels) - (i + 1),\n",
    "        svg_anim_duration = anim_duration * 2,\n",
    "        twice_num_points = len(as_pixels) * 2\n",
    "    )\n",
    "    lines.append(line)\n",
    "\n",
    "svg_lines = \"\\n\".join(lines) + \"\\n\"\n",
    "\n",
    "print(svg_lines)"
   ]
  },
  {
   "cell_type": "code",
   "execution_count": 16,
   "id": "179580b7",
   "metadata": {},
   "outputs": [],
   "source": [
    "# With that tangent out of the way, let's get back to epicycles"
   ]
  },
  {
   "cell_type": "code",
   "execution_count": 17,
   "id": "7a69bf1a",
   "metadata": {},
   "outputs": [
    {
     "name": "stdout",
     "output_type": "stream",
     "text": [
      "82\n"
     ]
    }
   ],
   "source": [
    "# numpy's fft returns the Fourier coëfficients starting with the constant\n",
    "# term, those for positive frequencies in ascending order, then for negative\n",
    "# frequencies in descending order, with an equal number of each.\n",
    "# i.e. 0, 1/n, 2/n, ..., -3/n, -2/n, -1/n\n",
    "# (if there were an even number of sample points, to keep the\n",
    "# array length the same, the Nyquist frequency will be between\n",
    "# them, which we don't need.)\n",
    "# Let's reärrange them so they're alternating and starting with the\n",
    "# slowest ones first.\n",
    "# i.e. 1/n, -1/n, 2/n, -2/n,...\n",
    "terms_to_take = (fourier_coeffs.size-1)//2\n",
    "pos = fourier_coeffs[1:terms_to_take+1]\n",
    "neg = fourier_coeffs[-terms_to_take:]\n",
    "interleaved = np.empty(2 * terms_to_take, dtype=complex)\n",
    "interleaved[0::2] = pos\n",
    "interleaved[1::2] = np.flip(neg)\n",
    "# This should be the even number just below the number of points\n",
    "print(interleaved.size)"
   ]
  },
  {
   "cell_type": "code",
   "execution_count": 18,
   "id": "1a6cf018",
   "metadata": {},
   "outputs": [],
   "source": [
    "# We'll need the animation durations for later as well.\n",
    "# We can use the same principle here.\n",
    "frequencies = np.fft.fftfreq(fourier_coeffs.size, d=anim_duration/fourier_coeffs.size)\n",
    "freq_interleaved = np.empty(2 * terms_to_take, dtype=float)\n",
    "pos_freq = frequencies[1:terms_to_take+1]\n",
    "neg_freq = frequencies[-terms_to_take:]\n",
    "freq_interleaved[0::2] = pos_freq\n",
    "freq_interleaved[1::2] = np.flip(neg_freq)\n",
    "\n",
    "durations = 1 / freq_interleaved"
   ]
  },
  {
   "cell_type": "code",
   "execution_count": 19,
   "id": "f3f1d718",
   "metadata": {},
   "outputs": [],
   "source": [
    "# With the exception of the constant term,\n",
    "# the coëfficients are most useful to us in polar form,\n",
    "# so that we can scale and rotate the circles\n",
    "radii = np.abs(interleaved)\n",
    "angles = np.angle(interleaved, deg=True)"
   ]
  },
  {
   "cell_type": "code",
   "execution_count": 20,
   "id": "5ba03adc",
   "metadata": {},
   "outputs": [],
   "source": [
    "# Here's where things get really fun:\n",
    "# The units of the radii are percentages\n",
    "# of the whole drawing, but percent sizes\n",
    "# for nested divs are relative to the containing one.\n",
    "# To get the percentages we need, we have to solve\n",
    "# outer_percent * div_percent = percent_of_whole\n",
    "# for div_percent, where percent_of_whole are the ones\n",
    "# from the Fourier coëfficients.\n",
    "# Fortunately we don't need to do a whole bunch of multiplications\n",
    "# to figure out what the real size of the outer div is, that'll just be\n",
    "# the previous coëfficient's radius.\n",
    "outer_pcts = np.concatenate(([0.5], radii[:-1]))\n",
    "# Additionally HTML widths and heights correspond to the\n",
    "# diameter, not the radius.\n",
    "div_pcts = (radii / outer_pcts) * 100"
   ]
  },
  {
   "cell_type": "code",
   "execution_count": 21,
   "id": "e447cddd",
   "metadata": {},
   "outputs": [],
   "source": [
    "# Angles have a similar issue. If the parent div is rotated,\n",
    "# a rotation on the inner one will be added onto that.\n",
    "# We can use the same idea as with the radii, just noting\n",
    "# that angles are added and not multiplied.\n",
    "outer_angles = np.concatenate(([0], angles[:-1]))\n",
    "div_angles = angles - outer_angles\n",
    "# To make the next math easier, the angles should be non-negative.\n",
    "for i in range(len(div_angles)):\n",
    "    while div_angles[i] < 0:\n",
    "        div_angles[i] += 360"
   ]
  },
  {
   "cell_type": "code",
   "execution_count": 22,
   "id": "b9b6bff2",
   "metadata": {},
   "outputs": [],
   "source": [
    "# But here's where angles get really fun: the spin animation is defined as transitioning\n",
    "# an element's transform from a 0° rotation at the start to a 360°\n",
    "# rotation at the end. We can't just slap a transform on the divs,\n",
    "# because the animation just overrides it.\n",
    "# What we'll have to do is add an offset to the animation timing,\n",
    "# so that at the global t=0 the animation will already be at the point\n",
    "# where the div is at its required starting angle.\n",
    "# But also! the negative frequency epicycles play the animation in reverse,\n",
    "# so the offset needs to be mirrored.\n",
    "# To avoid a delay before the animation starts, the offset should be negative.\n",
    "\n",
    "# What we can do is start by calculating the point at which the animation\n",
    "# reaches the desired angle. Then for the positive frequencies, negate it,\n",
    "# and for negative frequencies, subtract one period.\n",
    "\n",
    "# For an animation duration D, we go from 0° at t=0 to\n",
    "# 360° at t=D. So we achieve angle α at t= D * α / 360\n",
    "\n",
    "base_timings = np.multiply(durations, div_angles) / 360\n",
    "anim_delays = np.empty(len(div_angles), dtype=float)\n",
    "anim_delays[0::2] = base_timings[0::2] * -1\n",
    "anim_delays[1::2] = (base_timings[1::2] * -1) + durations[1::2]"
   ]
  },
  {
   "cell_type": "code",
   "execution_count": 23,
   "id": "570e1dae",
   "metadata": {},
   "outputs": [],
   "source": [
    "# Shared styling for the epicycles\n",
    "epicycle_css = \\\n",
    "'@keyframes spin {\\\n",
    "    to {\\\n",
    "        transform: rotate(360deg);\\\n",
    "    }\\\n",
    "}\\\n",
    "\\\n",
    ".container {\\\n",
    "    position: absolute;\\\n",
    "    box-sizing: border-box;\\\n",
    "    display: flex;\\\n",
    "    align-items: center;\\\n",
    "}\\\n",
    "\\\n",
    ".circle {\\\n",
    "    width: 100%;\\\n",
    "    height: 100%;\\\n",
    "    border-radius: 50%;\\\n",
    "    border: 1px dashed black;\\\n",
    "}\\\n",
    "\\\n",
    ".line {\\\n",
    "    position:absolute;\\\n",
    "    border-bottom: 1px solid black;\\\n",
    "    width: 50%;\\\n",
    "    height: 0%;\\\n",
    "    left :50%;\\\n",
    "}\\\n",
    "\\\n",
    ".tracer {\\\n",
    "    position: absolute;\\\n",
    "    right: -5px;\\\n",
    "    height: 10px;\\\n",
    "    width: 10px;\\\n",
    "    border: 0px solid blue;\\\n",
    "    border-radius: 50%;\\\n",
    "    background: blue;\\\n",
    "}\\n'"
   ]
  },
  {
   "cell_type": "code",
   "execution_count": 24,
   "id": "f72b2c25",
   "metadata": {},
   "outputs": [],
   "source": [
    "# Plug the radii and angles into the styles of a div\n",
    "first_cycle_template = \\\n",
    "'<div class=\"container\" \\\n",
    "style=\"\\\n",
    "width: {size}%;\\\n",
    "height: {size}%;\\\n",
    "left: {left_offset}%;\\\n",
    "top: {top_offset}%;\\\n",
    "\">\\\n",
    "\\\n",
    "<div class=\"circle\"></div>\\\n",
    "<div class=\"container\" \\\n",
    "style=\"\\\n",
    "width: 100%;\\\n",
    "height: 100%;\\\n",
    "animation: spin {period}s linear infinite{direction};\\\n",
    "animation-delay: {anim_delay}s;\\\">\\\n",
    "<div class=\"line\"></div>\\\n",
    "'\n",
    "\n",
    "# As the parent div rotates, the angle of its\n",
    "# children changes with it. For the inner circles\n",
    "# to rotate at the right frequency, their parent's\n",
    "# spin needs to be cancelled out first.\n",
    "# (The child *could* spin faster, but the number\n",
    "# of cycles each one would have to complete follows this\n",
    "# sequence: https://oeis.org/A000975\n",
    "# and, lol, lmao. there are 82 circles here.)\n",
    "div_position_template = \\\n",
    "'<div class=\"container\" \\\n",
    "style=\"\\\n",
    "width: {size}%;\\\n",
    "height: {size}%;\\\n",
    "right: -{half_size}%;\\\n",
    "animation: spin {parent_period}s linear infinite{direction};\\\">\\\n",
    "<div class=\"circle\"></div>\\\n",
    "<div class=\"container\" \\\n",
    "style=\"\\\n",
    "width: 100%;\\\n",
    "height: 100%;\\\n",
    "animation: spin {period}s linear infinite{direction};\\\n",
    "animation-delay: {anim_delay}s;\">\\\n",
    "<div class=\"line\"></div>\\\n",
    "'\n",
    "# Leaving the outer divs unclosed. We'll do the nesting by concatenating the filled-in templates\n",
    "# then closing all the divs."
   ]
  },
  {
   "cell_type": "code",
   "execution_count": 25,
   "id": "25771f9d",
   "metadata": {},
   "outputs": [],
   "source": [
    "divs = [''] * (len(interleaved) + 1)\n",
    "first = first_cycle_template.format(\n",
    "    size = div_pcts[0],\n",
    "    left_offset = (fourier_coeffs[0].real - radii[0]) * 100,\n",
    "    top_offset = (fourier_coeffs[0].imag - radii[0]) * 100,\n",
    "    period = abs(durations[0]),\n",
    "    direction = '',\n",
    "    anim_delay = anim_delays[0]\n",
    ")\n",
    "divs[0] = first"
   ]
  },
  {
   "cell_type": "code",
   "execution_count": 26,
   "id": "32335046",
   "metadata": {},
   "outputs": [],
   "source": [
    "for i in range(1, len(interleaved)):\n",
    "    direction = '' if durations[i] > 0 else ' reverse'\n",
    "    curr = div_position_template.format(\n",
    "        size = div_pcts[i],\n",
    "        half_size = div_pcts[i] / 2,\n",
    "        parent_period = abs(durations[i-1]),\n",
    "        period = abs(durations[i]),\n",
    "        direction = direction,\n",
    "        anim_delay = anim_delays[i]\n",
    "    )\n",
    "    divs[i] = curr\n",
    "# Add a tracer dot\n",
    "divs[-1] = '<div class=\"tracer\"></div>'"
   ]
  },
  {
   "cell_type": "code",
   "execution_count": 27,
   "id": "cbd79e4f",
   "metadata": {},
   "outputs": [],
   "source": [
    "full_divs = ''.join(divs) + ('</div>' * (2 * len(interleaved)))"
   ]
  },
  {
   "cell_type": "code",
   "execution_count": 28,
   "id": "fefb9ec8",
   "metadata": {},
   "outputs": [
    {
     "name": "stdout",
     "output_type": "stream",
     "text": [
      "<div class=\"container\" style=\"width: 69.63574937364514%;height: 69.63574937364514%;left: 6.338751819201543%;top: 21.093771899522817%;\"><div class=\"circle\"></div><div class=\"container\" style=\"width: 100%;height: 100%;animation: spin 20.0s linear infinite;animation-delay: -15.069904463644546s;\"><div class=\"line\"></div><div class=\"container\" style=\"width: 13.270497397685766%;height: 13.270497397685766%;right: -6.635248698842883%;animation: spin 20.0s linear infinite reverse;\"><div class=\"circle\"></div><div class=\"container\" style=\"width: 100%;height: 100%;animation: spin 20.0s linear infinite reverse;animation-delay: -15.04545098680727s;\"><div class=\"line\"></div><div class=\"container\" style=\"width: 369.8928523164139%;height: 369.8928523164139%;right: -184.94642615820695%;animation: spin 20.0s linear infinite;\"><div class=\"circle\"></div><div class=\"container\" style=\"width: 100%;height: 100%;animation: spin 10.0s linear infinite;animation-delay: -5.490842314802242s;\"><div class=\"line\"></div><div class=\"container\" style=\"width: 21.626714887500288%;height: 21.626714887500288%;right: -10.813357443750144%;animation: spin 10.0s linear infinite reverse;\"><div class=\"circle\"></div><div class=\"container\" style=\"width: 100%;height: 100%;animation: spin 10.0s linear infinite reverse;animation-delay: -9.869562620223213s;\"><div class=\"line\"></div><div class=\"container\" style=\"width: 108.84203756507141%;height: 108.84203756507141%;right: -54.421018782535704%;animation: spin 10.0s linear infinite;\"><div class=\"circle\"></div><div class=\"container\" style=\"width: 100%;height: 100%;animation: spin 6.666666666666666s linear infinite;animation-delay: -2.6695130183246594s;\"><div class=\"line\"></div><div class=\"container\" style=\"width: 31.094313492101485%;height: 31.094313492101485%;right: -15.547156746050742%;animation: spin 6.666666666666666s linear infinite reverse;\"><div class=\"circle\"></div><div class=\"container\" style=\"width: 100%;height: 100%;animation: spin 6.666666666666666s linear infinite reverse;animation-delay: -5.062107519159904s;\"><div class=\"line\"></div><div class=\"container\" style=\"width: 147.2840409908951%;height: 147.2840409908951%;right: -73.64202049544755%;animation: spin 6.666666666666666s linear infinite;\"><div class=\"circle\"></div><div class=\"container\" style=\"width: 100%;height: 100%;animation: spin 5.0s linear infinite;animation-delay: -4.7991169711778445s;\"><div class=\"line\"></div><div class=\"container\" style=\"width: 124.87922552473705%;height: 124.87922552473705%;right: -62.439612762368526%;animation: spin 5.0s linear infinite reverse;\"><div class=\"circle\"></div><div class=\"container\" style=\"width: 100%;height: 100%;animation: spin 5.0s linear infinite reverse;animation-delay: -2.28876168641432s;\"><div class=\"line\"></div><div class=\"container\" style=\"width: 81.17431713130313%;height: 81.17431713130313%;right: -40.58715856565156%;animation: spin 5.0s linear infinite;\"><div class=\"circle\"></div><div class=\"container\" style=\"width: 100%;height: 100%;animation: spin 4.0s linear infinite;animation-delay: -0.7617554872654495s;\"><div class=\"line\"></div><div class=\"container\" style=\"width: 178.89920020367066%;height: 178.89920020367066%;right: -89.44960010183533%;animation: spin 4.0s linear infinite reverse;\"><div class=\"circle\"></div><div class=\"container\" style=\"width: 100%;height: 100%;animation: spin 4.0s linear infinite reverse;animation-delay: -1.0598633153073314s;\"><div class=\"line\"></div><div class=\"container\" style=\"width: 46.99976177359008%;height: 46.99976177359008%;right: -23.49988088679504%;animation: spin 4.0s linear infinite;\"><div class=\"circle\"></div><div class=\"container\" style=\"width: 100%;height: 100%;animation: spin 3.333333333333333s linear infinite;animation-delay: -3.30422478868428s;\"><div class=\"line\"></div><div class=\"container\" style=\"width: 109.7693285226079%;height: 109.7693285226079%;right: -54.88466426130395%;animation: spin 3.333333333333333s linear infinite reverse;\"><div class=\"circle\"></div><div class=\"container\" style=\"width: 100%;height: 100%;animation: spin 3.333333333333333s linear infinite reverse;animation-delay: -0.43845772042356845s;\"><div class=\"line\"></div><div class=\"container\" style=\"width: 148.60611746240792%;height: 148.60611746240792%;right: -74.30305873120396%;animation: spin 3.333333333333333s linear infinite;\"><div class=\"circle\"></div><div class=\"container\" style=\"width: 100%;height: 100%;animation: spin 2.8571428571428568s linear infinite;animation-delay: -0.6382084507568113s;\"><div class=\"line\"></div><div class=\"container\" style=\"width: 25.32064743012694%;height: 25.32064743012694%;right: -12.66032371506347%;animation: spin 2.8571428571428568s linear infinite reverse;\"><div class=\"circle\"></div><div class=\"container\" style=\"width: 100%;height: 100%;animation: spin 2.8571428571428568s linear infinite reverse;animation-delay: -2.611962844567712s;\"><div class=\"line\"></div><div class=\"container\" style=\"width: 303.02677024976686%;height: 303.02677024976686%;right: -151.51338512488343%;animation: spin 2.8571428571428568s linear infinite;\"><div class=\"circle\"></div><div class=\"container\" style=\"width: 100%;height: 100%;animation: spin 2.5s linear infinite;animation-delay: -2.3766619287843054s;\"><div class=\"line\"></div><div class=\"container\" style=\"width: 10.420312027789423%;height: 10.420312027789423%;right: -5.210156013894712%;animation: spin 2.5s linear infinite reverse;\"><div class=\"circle\"></div><div class=\"container\" style=\"width: 100%;height: 100%;animation: spin 2.5s linear infinite reverse;animation-delay: -0.20738194856381265s;\"><div class=\"line\"></div><div class=\"container\" style=\"width: 831.7831357466515%;height: 831.7831357466515%;right: -415.89156787332576%;animation: spin 2.5s linear infinite;\"><div class=\"circle\"></div><div class=\"container\" style=\"width: 100%;height: 100%;animation: spin 2.2222222222222223s linear infinite;animation-delay: -2.143175065672856s;\"><div class=\"line\"></div><div class=\"container\" style=\"width: 25.777712392068892%;height: 25.777712392068892%;right: -12.888856196034446%;animation: spin 2.2222222222222223s linear infinite reverse;\"><div class=\"circle\"></div><div class=\"container\" style=\"width: 100%;height: 100%;animation: spin 2.2222222222222223s linear infinite reverse;animation-delay: -1.6449571179353653s;\"><div class=\"line\"></div><div class=\"container\" style=\"width: 164.6315293148811%;height: 164.6315293148811%;right: -82.31576465744055%;animation: spin 2.2222222222222223s linear infinite;\"><div class=\"circle\"></div><div class=\"container\" style=\"width: 100%;height: 100%;animation: spin 2.0s linear infinite;animation-delay: -1.7199544795605568s;\"><div class=\"line\"></div><div class=\"container\" style=\"width: 73.44477902292206%;height: 73.44477902292206%;right: -36.72238951146103%;animation: spin 2.0s linear infinite reverse;\"><div class=\"circle\"></div><div class=\"container\" style=\"width: 100%;height: 100%;animation: spin 2.0s linear infinite reverse;animation-delay: -1.1871666479154368s;\"><div class=\"line\"></div><div class=\"container\" style=\"width: 40.415242693419486%;height: 40.415242693419486%;right: -20.207621346709743%;animation: spin 2.0s linear infinite;\"><div class=\"circle\"></div><div class=\"container\" style=\"width: 100%;height: 100%;animation: spin 1.8181818181818181s linear infinite;animation-delay: -1.5033829769048477s;\"><div class=\"line\"></div><div class=\"container\" style=\"width: 243.70486521266903%;height: 243.70486521266903%;right: -121.85243260633452%;animation: spin 1.8181818181818181s linear infinite reverse;\"><div class=\"circle\"></div><div class=\"container\" style=\"width: 100%;height: 100%;animation: spin 1.8181818181818181s linear infinite reverse;animation-delay: -0.4387576147292489s;\"><div class=\"line\"></div><div class=\"container\" style=\"width: 139.84718844579896%;height: 139.84718844579896%;right: -69.92359422289948%;animation: spin 1.8181818181818181s linear infinite;\"><div class=\"circle\"></div><div class=\"container\" style=\"width: 100%;height: 100%;animation: spin 1.6666666666666665s linear infinite;animation-delay: -0.24861696695133814s;\"><div class=\"line\"></div><div class=\"container\" style=\"width: 22.090120860094846%;height: 22.090120860094846%;right: -11.045060430047423%;animation: spin 1.6666666666666665s linear infinite reverse;\"><div class=\"circle\"></div><div class=\"container\" style=\"width: 100%;height: 100%;animation: spin 1.6666666666666665s linear infinite reverse;animation-delay: -1.0386372783231113s;\"><div class=\"line\"></div><div class=\"container\" style=\"width: 287.3060313473398%;height: 287.3060313473398%;right: -143.6530156736699%;animation: spin 1.6666666666666665s linear infinite;\"><div class=\"circle\"></div><div class=\"container\" style=\"width: 100%;height: 100%;animation: spin 1.5384615384615383s linear infinite;animation-delay: -0.6854402374096562s;\"><div class=\"line\"></div><div class=\"container\" style=\"width: 146.19759616605694%;height: 146.19759616605694%;right: -73.09879808302847%;animation: spin 1.5384615384615383s linear infinite reverse;\"><div class=\"circle\"></div><div class=\"container\" style=\"width: 100%;height: 100%;animation: spin 1.5384615384615383s linear infinite reverse;animation-delay: -0.8459437939537213s;\"><div class=\"line\"></div><div class=\"container\" style=\"width: 64.34802327819988%;height: 64.34802327819988%;right: -32.17401163909994%;animation: spin 1.5384615384615383s linear infinite;\"><div class=\"circle\"></div><div class=\"container\" style=\"width: 100%;height: 100%;animation: spin 1.4285714285714284s linear infinite;animation-delay: -0.6389210897425094s;\"><div class=\"line\"></div><div class=\"container\" style=\"width: 60.596413097473715%;height: 60.596413097473715%;right: -30.298206548736857%;animation: spin 1.4285714285714284s linear infinite reverse;\"><div class=\"circle\"></div><div class=\"container\" style=\"width: 100%;height: 100%;animation: spin 1.4285714285714284s linear infinite reverse;animation-delay: -0.5601951255467761s;\"><div class=\"line\"></div><div class=\"container\" style=\"width: 201.70335087175658%;height: 201.70335087175658%;right: -100.85167543587829%;animation: spin 1.4285714285714284s linear infinite;\"><div class=\"circle\"></div><div class=\"container\" style=\"width: 100%;height: 100%;animation: spin 1.3333333333333333s linear infinite;animation-delay: -0.6061933781620313s;\"><div class=\"line\"></div><div class=\"container\" style=\"width: 29.742497570123323%;height: 29.742497570123323%;right: -14.871248785061661%;animation: spin 1.3333333333333333s linear infinite reverse;\"><div class=\"circle\"></div><div class=\"container\" style=\"width: 100%;height: 100%;animation: spin 1.3333333333333333s linear infinite reverse;animation-delay: -0.9831731850768819s;\"><div class=\"line\"></div><div class=\"container\" style=\"width: 176.23468477948188%;height: 176.23468477948188%;right: -88.11734238974094%;animation: spin 1.3333333333333333s linear infinite;\"><div class=\"circle\"></div><div class=\"container\" style=\"width: 100%;height: 100%;animation: spin 1.25s linear infinite;animation-delay: -0.7723265109830029s;\"><div class=\"line\"></div><div class=\"container\" style=\"width: 140.3585534426443%;height: 140.3585534426443%;right: -70.17927672132215%;animation: spin 1.25s linear infinite reverse;\"><div class=\"circle\"></div><div class=\"container\" style=\"width: 100%;height: 100%;animation: spin 1.25s linear infinite reverse;animation-delay: -1.1373946875907344s;\"><div class=\"line\"></div><div class=\"container\" style=\"width: 95.78301252534551%;height: 95.78301252534551%;right: -47.891506262672756%;animation: spin 1.25s linear infinite;\"><div class=\"circle\"></div><div class=\"container\" style=\"width: 100%;height: 100%;animation: spin 1.176470588235294s linear infinite;animation-delay: -0.6084738352934598s;\"><div class=\"line\"></div><div class=\"container\" style=\"width: 96.00716414689607%;height: 96.00716414689607%;right: -48.00358207344804%;animation: spin 1.176470588235294s linear infinite reverse;\"><div class=\"circle\"></div><div class=\"container\" style=\"width: 100%;height: 100%;animation: spin 1.176470588235294s linear infinite reverse;animation-delay: -1.147795615261981s;\"><div class=\"line\"></div><div class=\"container\" style=\"width: 96.06163237564581%;height: 96.06163237564581%;right: -48.03081618782291%;animation: spin 1.176470588235294s linear infinite;\"><div class=\"circle\"></div><div class=\"container\" style=\"width: 100%;height: 100%;animation: spin 1.1111111111111112s linear infinite;animation-delay: -0.14370044962178963s;\"><div class=\"line\"></div><div class=\"container\" style=\"width: 97.2941127258657%;height: 97.2941127258657%;right: -48.64705636293285%;animation: spin 1.1111111111111112s linear infinite reverse;\"><div class=\"circle\"></div><div class=\"container\" style=\"width: 100%;height: 100%;animation: spin 1.1111111111111112s linear infinite reverse;animation-delay: -1.0088687741817972s;\"><div class=\"line\"></div><div class=\"container\" style=\"width: 137.32626086664746%;height: 137.32626086664746%;right: -68.66313043332373%;animation: spin 1.1111111111111112s linear infinite;\"><div class=\"circle\"></div><div class=\"container\" style=\"width: 100%;height: 100%;animation: spin 1.0526315789473684s linear infinite;animation-delay: -0.24265328373134581s;\"><div class=\"line\"></div><div class=\"container\" style=\"width: 144.00120441347104%;height: 144.00120441347104%;right: -72.00060220673552%;animation: spin 1.0526315789473684s linear infinite reverse;\"><div class=\"circle\"></div><div class=\"container\" style=\"width: 100%;height: 100%;animation: spin 1.0526315789473684s linear infinite reverse;animation-delay: -0.8459323776575414s;\"><div class=\"line\"></div><div class=\"container\" style=\"width: 26.505270822222748%;height: 26.505270822222748%;right: -13.252635411111374%;animation: spin 1.0526315789473684s linear infinite;\"><div class=\"circle\"></div><div class=\"container\" style=\"width: 100%;height: 100%;animation: spin 1.0s linear infinite;animation-delay: -0.69747106686726s;\"><div class=\"line\"></div><div class=\"container\" style=\"width: 273.0498679270715%;height: 273.0498679270715%;right: -136.52493396353574%;animation: spin 1.0s linear infinite reverse;\"><div class=\"circle\"></div><div class=\"container\" style=\"width: 100%;height: 100%;animation: spin 1.0s linear infinite reverse;animation-delay: -0.2124108098496459s;\"><div class=\"line\"></div><div class=\"container\" style=\"width: 38.05904637887201%;height: 38.05904637887201%;right: -19.029523189436006%;animation: spin 1.0s linear infinite;\"><div class=\"circle\"></div><div class=\"container\" style=\"width: 100%;height: 100%;animation: spin 0.9523809523809523s linear infinite;animation-delay: -0.5456687208320371s;\"><div class=\"line\"></div><div class=\"container\" style=\"width: 105.87934308779607%;height: 105.87934308779607%;right: -52.93967154389804%;animation: spin 0.9523809523809523s linear infinite reverse;\"><div class=\"circle\"></div><div class=\"container\" style=\"width: 100%;height: 100%;animation: spin 0.9523809523809523s linear infinite reverse;animation-delay: -0.34836022183804705s;\"><div class=\"line\"></div><div class=\"container\" style=\"width: 241.54881653264053%;height: 241.54881653264053%;right: -120.77440826632026%;animation: spin 0.9523809523809523s linear infinite;\"><div class=\"circle\"></div><div class=\"container\" style=\"width: 100%;height: 100%;animation: spin 0.9090909090909091s linear infinite;animation-delay: -0.5930046307278108s;\"><div class=\"line\"></div><div class=\"container\" style=\"width: 89.4924715776109%;height: 89.4924715776109%;right: -44.74623578880545%;animation: spin 0.9090909090909091s linear infinite reverse;\"><div class=\"circle\"></div><div class=\"container\" style=\"width: 100%;height: 100%;animation: spin 0.9090909090909091s linear infinite reverse;animation-delay: -0.3230475422373448s;\"><div class=\"line\"></div><div class=\"container\" style=\"width: 29.36918596633276%;height: 29.36918596633276%;right: -14.68459298316638%;animation: spin 0.9090909090909091s linear infinite;\"><div class=\"circle\"></div><div class=\"container\" style=\"width: 100%;height: 100%;animation: spin 0.8695652173913042s linear infinite;animation-delay: -0.3257835369451285s;\"><div class=\"line\"></div><div class=\"container\" style=\"width: 327.2230044248183%;height: 327.2230044248183%;right: -163.61150221240916%;animation: spin 0.8695652173913042s linear infinite reverse;\"><div class=\"circle\"></div><div class=\"container\" style=\"width: 100%;height: 100%;animation: spin 0.8695652173913042s linear infinite reverse;animation-delay: -0.06662154083942107s;\"><div class=\"line\"></div><div class=\"container\" style=\"width: 74.44168690761154%;height: 74.44168690761154%;right: -37.22084345380577%;animation: spin 0.8695652173913042s linear infinite;\"><div class=\"circle\"></div><div class=\"container\" style=\"width: 100%;height: 100%;animation: spin 0.8333333333333333s linear infinite;animation-delay: -0.6298255179893719s;\"><div class=\"line\"></div><div class=\"container\" style=\"width: 88.10948238432795%;height: 88.10948238432795%;right: -44.05474119216397%;animation: spin 0.8333333333333333s linear infinite reverse;\"><div class=\"circle\"></div><div class=\"container\" style=\"width: 100%;height: 100%;animation: spin 0.8333333333333333s linear infinite reverse;animation-delay: -0.2553344724319603s;\"><div class=\"line\"></div><div class=\"container\" style=\"width: 64.84215187337884%;height: 64.84215187337884%;right: -32.42107593668942%;animation: spin 0.8333333333333333s linear infinite;\"><div class=\"circle\"></div><div class=\"container\" style=\"width: 100%;height: 100%;animation: spin 0.8s linear infinite;animation-delay: -0.14682161368664132s;\"><div class=\"line\"></div><div class=\"container\" style=\"width: 84.70651520706024%;height: 84.70651520706024%;right: -42.35325760353012%;animation: spin 0.8s linear infinite reverse;\"><div class=\"circle\"></div><div class=\"container\" style=\"width: 100%;height: 100%;animation: spin 0.8s linear infinite reverse;animation-delay: -0.49326419967675117s;\"><div class=\"line\"></div><div class=\"container\" style=\"width: 93.62003242404232%;height: 93.62003242404232%;right: -46.81001621202116%;animation: spin 0.8s linear infinite;\"><div class=\"circle\"></div><div class=\"container\" style=\"width: 100%;height: 100%;animation: spin 0.7692307692307692s linear infinite;animation-delay: -0.6411502513820835s;\"><div class=\"line\"></div><div class=\"container\" style=\"width: 164.25270001619913%;height: 164.25270001619913%;right: -82.12635000809956%;animation: spin 0.7692307692307692s linear infinite reverse;\"><div class=\"circle\"></div><div class=\"container\" style=\"width: 100%;height: 100%;animation: spin 0.7692307692307692s linear infinite reverse;animation-delay: -0.580852756628248s;\"><div class=\"line\"></div><div class=\"container\" style=\"width: 84.2550954942487%;height: 84.2550954942487%;right: -42.12754774712435%;animation: spin 0.7692307692307692s linear infinite;\"><div class=\"circle\"></div><div class=\"container\" style=\"width: 100%;height: 100%;animation: spin 0.7407407407407407s linear infinite;animation-delay: -0.5656529319205683s;\"><div class=\"line\"></div><div class=\"container\" style=\"width: 94.189899634665%;height: 94.189899634665%;right: -47.0949498173325%;animation: spin 0.7407407407407407s linear infinite reverse;\"><div class=\"circle\"></div><div class=\"container\" style=\"width: 100%;height: 100%;animation: spin 0.7407407407407407s linear infinite reverse;animation-delay: -0.004842147084385906s;\"><div class=\"line\"></div><div class=\"container\" style=\"width: 117.47672585768754%;height: 117.47672585768754%;right: -58.73836292884377%;animation: spin 0.7407407407407407s linear infinite;\"><div class=\"circle\"></div><div class=\"container\" style=\"width: 100%;height: 100%;animation: spin 0.7142857142857142s linear infinite;animation-delay: -0.17264765985716274s;\"><div class=\"line\"></div><div class=\"container\" style=\"width: 140.50602928561105%;height: 140.50602928561105%;right: -70.25301464280552%;animation: spin 0.7142857142857142s linear infinite reverse;\"><div class=\"circle\"></div><div class=\"container\" style=\"width: 100%;height: 100%;animation: spin 0.7142857142857142s linear infinite reverse;animation-delay: -0.4938704358998811s;\"><div class=\"line\"></div><div class=\"container\" style=\"width: 65.33939552768337%;height: 65.33939552768337%;right: -32.66969776384168%;animation: spin 0.7142857142857142s linear infinite;\"><div class=\"circle\"></div><div class=\"container\" style=\"width: 100%;height: 100%;animation: spin 0.689655172413793s linear infinite;animation-delay: -0.16475556411343523s;\"><div class=\"line\"></div><div class=\"container\" style=\"width: 112.84587760632317%;height: 112.84587760632317%;right: -56.422938803161585%;animation: spin 0.689655172413793s linear infinite reverse;\"><div class=\"circle\"></div><div class=\"container\" style=\"width: 100%;height: 100%;animation: spin 0.689655172413793s linear infinite reverse;animation-delay: -0.4857968504382867s;\"><div class=\"line\"></div><div class=\"container\" style=\"width: 77.55958499246833%;height: 77.55958499246833%;right: -38.779792496234165%;animation: spin 0.689655172413793s linear infinite;\"><div class=\"circle\"></div><div class=\"container\" style=\"width: 100%;height: 100%;animation: spin 0.6666666666666666s linear infinite;animation-delay: -0.640394949287717s;\"><div class=\"line\"></div><div class=\"container\" style=\"width: 106.66301993378424%;height: 106.66301993378424%;right: -53.33150996689212%;animation: spin 0.6666666666666666s linear infinite reverse;\"><div class=\"circle\"></div><div class=\"container\" style=\"width: 100%;height: 100%;animation: spin 0.6666666666666666s linear infinite reverse;animation-delay: -0.4531618517371037s;\"><div class=\"line\"></div><div class=\"container\" style=\"width: 28.655215878520853%;height: 28.655215878520853%;right: -14.327607939260426%;animation: spin 0.6666666666666666s linear infinite;\"><div class=\"circle\"></div><div class=\"container\" style=\"width: 100%;height: 100%;animation: spin 0.6451612903225806s linear infinite;animation-delay: -0.39771679393129117s;\"><div class=\"line\"></div><div class=\"container\" style=\"width: 447.8121532116371%;height: 447.8121532116371%;right: -223.90607660581855%;animation: spin 0.6451612903225806s linear infinite reverse;\"><div class=\"circle\"></div><div class=\"container\" style=\"width: 100%;height: 100%;animation: spin 0.6451612903225806s linear infinite reverse;animation-delay: -0.4479097020541599s;\"><div class=\"line\"></div><div class=\"container\" style=\"width: 73.91459672477623%;height: 73.91459672477623%;right: -36.957298362388116%;animation: spin 0.6451612903225806s linear infinite;\"><div class=\"circle\"></div><div class=\"container\" style=\"width: 100%;height: 100%;animation: spin 0.625s linear infinite;animation-delay: -0.12091256528874174s;\"><div class=\"line\"></div><div class=\"container\" style=\"width: 176.48303885565252%;height: 176.48303885565252%;right: -88.24151942782626%;animation: spin 0.625s linear infinite reverse;\"><div class=\"circle\"></div><div class=\"container\" style=\"width: 100%;height: 100%;animation: spin 0.625s linear infinite reverse;animation-delay: -0.5162337417796746s;\"><div class=\"line\"></div><div class=\"container\" style=\"width: 56.426502142578585%;height: 56.426502142578585%;right: -28.213251071289292%;animation: spin 0.625s linear infinite;\"><div class=\"circle\"></div><div class=\"container\" style=\"width: 100%;height: 100%;animation: spin 0.606060606060606s linear infinite;animation-delay: -0.17634522362724395s;\"><div class=\"line\"></div><div class=\"container\" style=\"width: 132.46100404129922%;height: 132.46100404129922%;right: -66.23050202064961%;animation: spin 0.606060606060606s linear infinite reverse;\"><div class=\"circle\"></div><div class=\"container\" style=\"width: 100%;height: 100%;animation: spin 0.606060606060606s linear infinite reverse;animation-delay: -0.4604484189625546s;\"><div class=\"line\"></div><div class=\"container\" style=\"width: 53.143738436167034%;height: 53.143738436167034%;right: -26.571869218083517%;animation: spin 0.606060606060606s linear infinite;\"><div class=\"circle\"></div><div class=\"container\" style=\"width: 100%;height: 100%;animation: spin 0.588235294117647s linear infinite;animation-delay: -0.5394031919201898s;\"><div class=\"line\"></div><div class=\"container\" style=\"width: 12.705256089771359%;height: 12.705256089771359%;right: -6.352628044885679%;animation: spin 0.588235294117647s linear infinite reverse;\"><div class=\"circle\"></div><div class=\"container\" style=\"width: 100%;height: 100%;animation: spin 0.588235294117647s linear infinite reverse;animation-delay: -0.2647377532188091s;\"><div class=\"line\"></div><div class=\"container\" style=\"width: 601.5380352753647%;height: 601.5380352753647%;right: -300.76901763768234%;animation: spin 0.588235294117647s linear infinite;\"><div class=\"circle\"></div><div class=\"container\" style=\"width: 100%;height: 100%;animation: spin 0.5714285714285714s linear infinite;animation-delay: -0.23578602089634504s;\"><div class=\"line\"></div><div class=\"container\" style=\"width: 20.517574545939034%;height: 20.517574545939034%;right: -10.258787272969517%;animation: spin 0.5714285714285714s linear infinite reverse;\"><div class=\"circle\"></div><div class=\"container\" style=\"width: 100%;height: 100%;animation: spin 0.5714285714285714s linear infinite reverse;animation-delay: -0.39387560214407263s;\"><div class=\"line\"></div><div class=\"container\" style=\"width: 663.8968650297244%;height: 663.8968650297244%;right: -331.9484325148622%;animation: spin 0.5714285714285714s linear infinite;\"><div class=\"circle\"></div><div class=\"container\" style=\"width: 100%;height: 100%;animation: spin 0.5555555555555556s linear infinite;animation-delay: -0.4252966911152117s;\"><div class=\"line\"></div><div class=\"container\" style=\"width: 162.8915044158507%;height: 162.8915044158507%;right: -81.44575220792535%;animation: spin 0.5555555555555556s linear infinite reverse;\"><div class=\"circle\"></div><div class=\"container\" style=\"width: 100%;height: 100%;animation: spin 0.5555555555555556s linear infinite reverse;animation-delay: -0.28229207774361625s;\"><div class=\"line\"></div><div class=\"container\" style=\"width: 68.1627382897371%;height: 68.1627382897371%;right: -34.08136914486855%;animation: spin 0.5555555555555556s linear infinite;\"><div class=\"circle\"></div><div class=\"container\" style=\"width: 100%;height: 100%;animation: spin 0.5405405405405405s linear infinite;animation-delay: -0.012137568942618398s;\"><div class=\"line\"></div><div class=\"container\" style=\"width: 132.35395293415152%;height: 132.35395293415152%;right: -66.17697646707576%;animation: spin 0.5405405405405405s linear infinite reverse;\"><div class=\"circle\"></div><div class=\"container\" style=\"width: 100%;height: 100%;animation: spin 0.5405405405405405s linear infinite reverse;animation-delay: -0.2708047646743371s;\"><div class=\"line\"></div><div class=\"container\" style=\"width: 131.01561048386918%;height: 131.01561048386918%;right: -65.50780524193459%;animation: spin 0.5405405405405405s linear infinite;\"><div class=\"circle\"></div><div class=\"container\" style=\"width: 100%;height: 100%;animation: spin 0.5263157894736842s linear infinite;animation-delay: -0.4140352278120722s;\"><div class=\"line\"></div><div class=\"container\" style=\"width: 132.5867691825352%;height: 132.5867691825352%;right: -66.2933845912676%;animation: spin 0.5263157894736842s linear infinite reverse;\"><div class=\"circle\"></div><div class=\"container\" style=\"width: 100%;height: 100%;animation: spin 0.5263157894736842s linear infinite reverse;animation-delay: -0.22358039132846197s;\"><div class=\"line\"></div><div class=\"container\" style=\"width: 58.90628286480223%;height: 58.90628286480223%;right: -29.453141432401114%;animation: spin 0.5263157894736842s linear infinite;\"><div class=\"circle\"></div><div class=\"container\" style=\"width: 100%;height: 100%;animation: spin 0.5128205128205128s linear infinite;animation-delay: -0.10466467747397772s;\"><div class=\"line\"></div><div class=\"container\" style=\"width: 78.26495815849678%;height: 78.26495815849678%;right: -39.13247907924839%;animation: spin 0.5128205128205128s linear infinite reverse;\"><div class=\"circle\"></div><div class=\"container\" style=\"width: 100%;height: 100%;animation: spin 0.5128205128205128s linear infinite reverse;animation-delay: -0.4583059018455903s;\"><div class=\"line\"></div><div class=\"container\" style=\"width: 278.52927899411617%;height: 278.52927899411617%;right: -139.26463949705808%;animation: spin 0.5128205128205128s linear infinite;\"><div class=\"circle\"></div><div class=\"container\" style=\"width: 100%;height: 100%;animation: spin 0.5s linear infinite;animation-delay: -0.1637147112577965s;\"><div class=\"line\"></div><div class=\"container\" style=\"width: 54.83477025899867%;height: 54.83477025899867%;right: -27.417385129499333%;animation: spin 0.5s linear infinite reverse;\"><div class=\"circle\"></div><div class=\"container\" style=\"width: 100%;height: 100%;animation: spin 0.5s linear infinite reverse;animation-delay: -0.08715758488795777s;\"><div class=\"line\"></div><div class=\"container\" style=\"width: 129.7694405051295%;height: 129.7694405051295%;right: -64.88472025256475%;animation: spin 0.5s linear infinite;\"><div class=\"circle\"></div><div class=\"container\" style=\"width: 100%;height: 100%;animation: spin 0.4878048780487804s linear infinite;animation-delay: -0.3577993640709982s;\"><div class=\"line\"></div><div class=\"container\" style=\"width: 104.48555855972852%;height: 104.48555855972852%;right: -52.24277927986426%;animation: spin 0.4878048780487804s linear infinite reverse;\"><div class=\"circle\"></div><div class=\"container\" style=\"width: 100%;height: 100%;animation: spin 0.4878048780487804s linear infinite reverse;animation-delay: -0.07755309013232131s;\"><div class=\"line\"></div><div class=\"tracer\"></div></div></div></div></div></div></div></div></div></div></div></div></div></div></div></div></div></div></div></div></div></div></div></div></div></div></div></div></div></div></div></div></div></div></div></div></div></div></div></div></div></div></div></div></div></div></div></div></div></div></div></div></div></div></div></div></div></div></div></div></div></div></div></div></div></div></div></div></div></div></div></div></div></div></div></div></div></div></div></div></div></div></div></div></div></div></div></div></div></div></div></div></div></div></div></div></div></div></div></div></div></div></div></div></div></div></div></div></div></div></div></div></div></div></div></div></div></div></div></div></div></div></div></div></div></div></div></div></div></div></div></div></div></div></div></div></div></div></div></div></div></div></div></div></div></div></div></div></div></div></div></div></div></div></div></div></div></div></div></div></div></div></div></div></div>\n"
     ]
    }
   ],
   "source": [
    "print(full_divs)"
   ]
  },
  {
   "cell_type": "code",
   "execution_count": 30,
   "id": "c36b6280",
   "metadata": {},
   "outputs": [
    {
     "name": "stdout",
     "output_type": "stream",
     "text": [
      "<svg viewBox=\"0 0 500 500\" xmlns=\"http://www.w3.org/2000/svg\" width=\"100%\" height=\"100%\"><style>\n",
      ".traced {\n",
      "  animation: trace 40s linear forwards infinite;\n",
      "}\n",
      "\n",
      "@keyframes trace {\n",
      "  0% {\n",
      "    stroke-dashoffset: 0;\n",
      "  }\n",
      "  100% {\n",
      "    stroke-dashoffset: 166;\n",
      "  }\n",
      "}\n",
      "@keyframes spin {    to {        transform: rotate(360deg);    }}.container {    position: absolute;    box-sizing: border-box;    display: flex;    align-items: center;}.circle {    width: 100%;    height: 100%;    border-radius: 50%;    border: 1px dashed black;}.line {    position:absolute;    border-bottom: 1px solid black;    width: 50%;    height: 0%;    left :50%;}.tracer {    position: absolute;    right: -5px;    height: 10px;    width: 10px;    border: 0px solid blue;    border-radius: 50%;    background: blue;}\n",
      "</style>\n",
      "<line class=\"traced\" x1=\"176.67\" y1=\"16.67\" x2=\"140.00\" y2=\"6.67\" stroke=\"black\" pathLength=\"1\" stroke-dasharray=\"0 1 83 82\" />\n",
      "<line class=\"traced\" x1=\"203.33\" y1=\"30.00\" x2=\"176.67\" y2=\"16.67\" stroke=\"black\" pathLength=\"1\" stroke-dasharray=\"0 2 83 81\" />\n",
      "<line class=\"traced\" x1=\"230.00\" y1=\"86.67\" x2=\"203.33\" y2=\"30.00\" stroke=\"black\" pathLength=\"1\" stroke-dasharray=\"0 3 83 80\" />\n",
      "<line class=\"traced\" x1=\"230.00\" y1=\"110.00\" x2=\"230.00\" y2=\"86.67\" stroke=\"black\" pathLength=\"1\" stroke-dasharray=\"0 4 83 79\" />\n",
      "<line class=\"traced\" x1=\"230.00\" y1=\"133.33\" x2=\"230.00\" y2=\"110.00\" stroke=\"black\" pathLength=\"1\" stroke-dasharray=\"0 5 83 78\" />\n",
      "<line class=\"traced\" x1=\"260.00\" y1=\"126.67\" x2=\"230.00\" y2=\"133.33\" stroke=\"black\" pathLength=\"1\" stroke-dasharray=\"0 6 83 77\" />\n",
      "<line class=\"traced\" x1=\"293.33\" y1=\"123.33\" x2=\"260.00\" y2=\"126.67\" stroke=\"black\" pathLength=\"1\" stroke-dasharray=\"0 7 83 76\" />\n",
      "<line class=\"traced\" x1=\"303.33\" y1=\"106.67\" x2=\"293.33\" y2=\"123.33\" stroke=\"black\" pathLength=\"1\" stroke-dasharray=\"0 8 83 75\" />\n",
      "<line class=\"traced\" x1=\"316.67\" y1=\"90.00\" x2=\"303.33\" y2=\"106.67\" stroke=\"black\" pathLength=\"1\" stroke-dasharray=\"0 9 83 74\" />\n",
      "<line class=\"traced\" x1=\"336.67\" y1=\"70.00\" x2=\"316.67\" y2=\"90.00\" stroke=\"black\" pathLength=\"1\" stroke-dasharray=\"0 10 83 73\" />\n",
      "<line class=\"traced\" x1=\"363.33\" y1=\"60.00\" x2=\"336.67\" y2=\"70.00\" stroke=\"black\" pathLength=\"1\" stroke-dasharray=\"0 11 83 72\" />\n",
      "<line class=\"traced\" x1=\"393.33\" y1=\"60.00\" x2=\"363.33\" y2=\"60.00\" stroke=\"black\" pathLength=\"1\" stroke-dasharray=\"0 12 83 71\" />\n",
      "<line class=\"traced\" x1=\"423.33\" y1=\"73.33\" x2=\"393.33\" y2=\"60.00\" stroke=\"black\" pathLength=\"1\" stroke-dasharray=\"0 13 83 70\" />\n",
      "<line class=\"traced\" x1=\"460.00\" y1=\"106.67\" x2=\"423.33\" y2=\"73.33\" stroke=\"black\" pathLength=\"1\" stroke-dasharray=\"0 14 83 69\" />\n",
      "<line class=\"traced\" x1=\"456.67\" y1=\"143.33\" x2=\"460.00\" y2=\"106.67\" stroke=\"black\" pathLength=\"1\" stroke-dasharray=\"0 15 83 68\" />\n",
      "<line class=\"traced\" x1=\"440.00\" y1=\"170.00\" x2=\"456.67\" y2=\"143.33\" stroke=\"black\" pathLength=\"1\" stroke-dasharray=\"0 16 83 67\" />\n",
      "<line class=\"traced\" x1=\"453.33\" y1=\"190.00\" x2=\"440.00\" y2=\"170.00\" stroke=\"black\" pathLength=\"1\" stroke-dasharray=\"0 17 83 66\" />\n",
      "<line class=\"traced\" x1=\"466.67\" y1=\"213.33\" x2=\"453.33\" y2=\"190.00\" stroke=\"black\" pathLength=\"1\" stroke-dasharray=\"0 18 83 65\" />\n",
      "<line class=\"traced\" x1=\"473.33\" y1=\"243.33\" x2=\"466.67\" y2=\"213.33\" stroke=\"black\" pathLength=\"1\" stroke-dasharray=\"0 19 83 64\" />\n",
      "<line class=\"traced\" x1=\"476.67\" y1=\"263.33\" x2=\"473.33\" y2=\"243.33\" stroke=\"black\" pathLength=\"1\" stroke-dasharray=\"0 20 83 63\" />\n",
      "<line class=\"traced\" x1=\"476.67\" y1=\"286.67\" x2=\"476.67\" y2=\"263.33\" stroke=\"black\" pathLength=\"1\" stroke-dasharray=\"0 21 83 62\" />\n",
      "<line class=\"traced\" x1=\"470.00\" y1=\"316.67\" x2=\"476.67\" y2=\"286.67\" stroke=\"black\" pathLength=\"1\" stroke-dasharray=\"0 22 83 61\" />\n",
      "<line class=\"traced\" x1=\"453.33\" y1=\"343.33\" x2=\"470.00\" y2=\"316.67\" stroke=\"black\" pathLength=\"1\" stroke-dasharray=\"0 23 83 60\" />\n",
      "<line class=\"traced\" x1=\"416.67\" y1=\"383.33\" x2=\"453.33\" y2=\"343.33\" stroke=\"black\" pathLength=\"1\" stroke-dasharray=\"0 24 83 59\" />\n",
      "<line class=\"traced\" x1=\"433.33\" y1=\"416.67\" x2=\"416.67\" y2=\"383.33\" stroke=\"black\" pathLength=\"1\" stroke-dasharray=\"0 25 83 58\" />\n",
      "<line class=\"traced\" x1=\"406.67\" y1=\"393.33\" x2=\"433.33\" y2=\"416.67\" stroke=\"black\" pathLength=\"1\" stroke-dasharray=\"0 26 83 57\" />\n",
      "<line class=\"traced\" x1=\"390.00\" y1=\"403.33\" x2=\"406.67\" y2=\"393.33\" stroke=\"black\" pathLength=\"1\" stroke-dasharray=\"0 27 83 56\" />\n",
      "<line class=\"traced\" x1=\"363.33\" y1=\"420.00\" x2=\"390.00\" y2=\"403.33\" stroke=\"black\" pathLength=\"1\" stroke-dasharray=\"0 28 83 55\" />\n",
      "<line class=\"traced\" x1=\"363.33\" y1=\"453.33\" x2=\"363.33\" y2=\"420.00\" stroke=\"black\" pathLength=\"1\" stroke-dasharray=\"0 29 83 54\" />\n",
      "<line class=\"traced\" x1=\"336.67\" y1=\"433.33\" x2=\"363.33\" y2=\"453.33\" stroke=\"black\" pathLength=\"1\" stroke-dasharray=\"0 30 83 53\" />\n",
      "<line class=\"traced\" x1=\"310.00\" y1=\"443.33\" x2=\"336.67\" y2=\"433.33\" stroke=\"black\" pathLength=\"1\" stroke-dasharray=\"0 31 83 52\" />\n",
      "<line class=\"traced\" x1=\"280.00\" y1=\"453.33\" x2=\"310.00\" y2=\"443.33\" stroke=\"black\" pathLength=\"1\" stroke-dasharray=\"0 32 83 51\" />\n",
      "<line class=\"traced\" x1=\"286.67\" y1=\"486.67\" x2=\"280.00\" y2=\"453.33\" stroke=\"black\" pathLength=\"1\" stroke-dasharray=\"0 33 83 50\" />\n",
      "<line class=\"traced\" x1=\"263.33\" y1=\"460.00\" x2=\"286.67\" y2=\"486.67\" stroke=\"black\" pathLength=\"1\" stroke-dasharray=\"0 34 83 49\" />\n",
      "<line class=\"traced\" x1=\"236.67\" y1=\"466.67\" x2=\"263.33\" y2=\"460.00\" stroke=\"black\" pathLength=\"1\" stroke-dasharray=\"0 35 83 48\" />\n",
      "<line class=\"traced\" x1=\"186.67\" y1=\"466.67\" x2=\"236.67\" y2=\"466.67\" stroke=\"black\" pathLength=\"1\" stroke-dasharray=\"0 36 83 47\" />\n",
      "<line class=\"traced\" x1=\"156.67\" y1=\"466.67\" x2=\"186.67\" y2=\"466.67\" stroke=\"black\" pathLength=\"1\" stroke-dasharray=\"0 37 83 46\" />\n",
      "<line class=\"traced\" x1=\"126.67\" y1=\"460.00\" x2=\"156.67\" y2=\"466.67\" stroke=\"black\" pathLength=\"1\" stroke-dasharray=\"0 38 83 45\" />\n",
      "<line class=\"traced\" x1=\"100.00\" y1=\"450.00\" x2=\"126.67\" y2=\"460.00\" stroke=\"black\" pathLength=\"1\" stroke-dasharray=\"0 39 83 44\" />\n",
      "<line class=\"traced\" x1=\"83.33\" y1=\"443.33\" x2=\"100.00\" y2=\"450.00\" stroke=\"black\" pathLength=\"1\" stroke-dasharray=\"0 40 83 43\" />\n",
      "<line class=\"traced\" x1=\"66.67\" y1=\"433.33\" x2=\"83.33\" y2=\"443.33\" stroke=\"black\" pathLength=\"1\" stroke-dasharray=\"0 41 83 42\" />\n",
      "<line class=\"traced\" x1=\"30.00\" y1=\"453.33\" x2=\"66.67\" y2=\"433.33\" stroke=\"black\" pathLength=\"1\" stroke-dasharray=\"0 42 83 41\" />\n",
      "<line class=\"traced\" x1=\"56.67\" y1=\"420.00\" x2=\"30.00\" y2=\"453.33\" stroke=\"black\" pathLength=\"1\" stroke-dasharray=\"0 43 83 40\" />\n",
      "<line class=\"traced\" x1=\"40.00\" y1=\"393.33\" x2=\"56.67\" y2=\"420.00\" stroke=\"black\" pathLength=\"1\" stroke-dasharray=\"0 44 83 39\" />\n",
      "<line class=\"traced\" x1=\"30.00\" y1=\"376.67\" x2=\"40.00\" y2=\"393.33\" stroke=\"black\" pathLength=\"1\" stroke-dasharray=\"0 45 83 38\" />\n",
      "<line class=\"traced\" x1=\"23.33\" y1=\"356.67\" x2=\"30.00\" y2=\"376.67\" stroke=\"black\" pathLength=\"1\" stroke-dasharray=\"0 46 83 37\" />\n",
      "<line class=\"traced\" x1=\"20.00\" y1=\"330.00\" x2=\"23.33\" y2=\"356.67\" stroke=\"black\" pathLength=\"1\" stroke-dasharray=\"0 47 83 36\" />\n",
      "<line class=\"traced\" x1=\"43.33\" y1=\"320.00\" x2=\"20.00\" y2=\"330.00\" stroke=\"black\" pathLength=\"1\" stroke-dasharray=\"0 48 83 35\" />\n",
      "<line class=\"traced\" x1=\"56.67\" y1=\"320.00\" x2=\"43.33\" y2=\"320.00\" stroke=\"black\" pathLength=\"1\" stroke-dasharray=\"0 49 83 34\" />\n",
      "<line class=\"traced\" x1=\"66.67\" y1=\"336.67\" x2=\"56.67\" y2=\"320.00\" stroke=\"black\" pathLength=\"1\" stroke-dasharray=\"0 50 83 33\" />\n",
      "<line class=\"traced\" x1=\"83.33\" y1=\"343.33\" x2=\"66.67\" y2=\"336.67\" stroke=\"black\" pathLength=\"1\" stroke-dasharray=\"0 51 83 32\" />\n",
      "<line class=\"traced\" x1=\"96.67\" y1=\"333.33\" x2=\"83.33\" y2=\"343.33\" stroke=\"black\" pathLength=\"1\" stroke-dasharray=\"0 52 83 31\" />\n",
      "<line class=\"traced\" x1=\"90.00\" y1=\"360.00\" x2=\"96.67\" y2=\"333.33\" stroke=\"black\" pathLength=\"1\" stroke-dasharray=\"0 53 83 30\" />\n",
      "<line class=\"traced\" x1=\"96.67\" y1=\"373.33\" x2=\"90.00\" y2=\"360.00\" stroke=\"black\" pathLength=\"1\" stroke-dasharray=\"0 54 83 29\" />\n",
      "<line class=\"traced\" x1=\"113.33\" y1=\"370.00\" x2=\"96.67\" y2=\"373.33\" stroke=\"black\" pathLength=\"1\" stroke-dasharray=\"0 55 83 28\" />\n",
      "<line class=\"traced\" x1=\"133.33\" y1=\"373.33\" x2=\"113.33\" y2=\"370.00\" stroke=\"black\" pathLength=\"1\" stroke-dasharray=\"0 56 83 27\" />\n",
      "<line class=\"traced\" x1=\"136.67\" y1=\"363.33\" x2=\"133.33\" y2=\"373.33\" stroke=\"black\" pathLength=\"1\" stroke-dasharray=\"0 57 83 26\" />\n",
      "<line class=\"traced\" x1=\"170.00\" y1=\"360.00\" x2=\"136.67\" y2=\"363.33\" stroke=\"black\" pathLength=\"1\" stroke-dasharray=\"0 58 83 25\" />\n",
      "<line class=\"traced\" x1=\"180.00\" y1=\"353.33\" x2=\"170.00\" y2=\"360.00\" stroke=\"black\" pathLength=\"1\" stroke-dasharray=\"0 59 83 24\" />\n",
      "<line class=\"traced\" x1=\"186.67\" y1=\"343.33\" x2=\"180.00\" y2=\"353.33\" stroke=\"black\" pathLength=\"1\" stroke-dasharray=\"0 60 83 23\" />\n",
      "<line class=\"traced\" x1=\"180.00\" y1=\"320.00\" x2=\"186.67\" y2=\"343.33\" stroke=\"black\" pathLength=\"1\" stroke-dasharray=\"0 61 83 22\" />\n",
      "<line class=\"traced\" x1=\"160.00\" y1=\"316.67\" x2=\"180.00\" y2=\"320.00\" stroke=\"black\" pathLength=\"1\" stroke-dasharray=\"0 62 83 21\" />\n",
      "<line class=\"traced\" x1=\"146.67\" y1=\"330.00\" x2=\"160.00\" y2=\"316.67\" stroke=\"black\" pathLength=\"1\" stroke-dasharray=\"0 63 83 20\" />\n",
      "<line class=\"traced\" x1=\"150.00\" y1=\"346.67\" x2=\"146.67\" y2=\"330.00\" stroke=\"black\" pathLength=\"1\" stroke-dasharray=\"0 64 83 19\" />\n",
      "<line class=\"traced\" x1=\"100.00\" y1=\"323.33\" x2=\"150.00\" y2=\"346.67\" stroke=\"black\" pathLength=\"1\" stroke-dasharray=\"0 65 83 18\" />\n",
      "<line class=\"traced\" x1=\"90.00\" y1=\"300.00\" x2=\"100.00\" y2=\"323.33\" stroke=\"black\" pathLength=\"1\" stroke-dasharray=\"0 66 83 17\" />\n",
      "<line class=\"traced\" x1=\"70.00\" y1=\"300.00\" x2=\"90.00\" y2=\"300.00\" stroke=\"black\" pathLength=\"1\" stroke-dasharray=\"0 67 83 16\" />\n",
      "<line class=\"traced\" x1=\"56.67\" y1=\"310.00\" x2=\"70.00\" y2=\"300.00\" stroke=\"black\" pathLength=\"1\" stroke-dasharray=\"0 68 83 15\" />\n",
      "<line class=\"traced\" x1=\"20.00\" y1=\"310.00\" x2=\"56.67\" y2=\"310.00\" stroke=\"black\" pathLength=\"1\" stroke-dasharray=\"0 69 83 14\" />\n",
      "<line class=\"traced\" x1=\"23.33\" y1=\"290.00\" x2=\"20.00\" y2=\"310.00\" stroke=\"black\" pathLength=\"1\" stroke-dasharray=\"0 70 83 13\" />\n",
      "<line class=\"traced\" x1=\"33.33\" y1=\"266.67\" x2=\"23.33\" y2=\"290.00\" stroke=\"black\" pathLength=\"1\" stroke-dasharray=\"0 71 83 12\" />\n",
      "<line class=\"traced\" x1=\"46.67\" y1=\"243.33\" x2=\"33.33\" y2=\"266.67\" stroke=\"black\" pathLength=\"1\" stroke-dasharray=\"0 72 83 11\" />\n",
      "<line class=\"traced\" x1=\"66.67\" y1=\"220.00\" x2=\"46.67\" y2=\"243.33\" stroke=\"black\" pathLength=\"1\" stroke-dasharray=\"0 73 83 10\" />\n",
      "<line class=\"traced\" x1=\"86.67\" y1=\"200.00\" x2=\"66.67\" y2=\"220.00\" stroke=\"black\" pathLength=\"1\" stroke-dasharray=\"0 74 83 9\" />\n",
      "<line class=\"traced\" x1=\"106.67\" y1=\"186.67\" x2=\"86.67\" y2=\"200.00\" stroke=\"black\" pathLength=\"1\" stroke-dasharray=\"0 75 83 8\" />\n",
      "<line class=\"traced\" x1=\"126.67\" y1=\"173.33\" x2=\"106.67\" y2=\"186.67\" stroke=\"black\" pathLength=\"1\" stroke-dasharray=\"0 76 83 7\" />\n",
      "<line class=\"traced\" x1=\"130.00\" y1=\"163.33\" x2=\"126.67\" y2=\"173.33\" stroke=\"black\" pathLength=\"1\" stroke-dasharray=\"0 77 83 6\" />\n",
      "<line class=\"traced\" x1=\"120.00\" y1=\"143.33\" x2=\"130.00\" y2=\"163.33\" stroke=\"black\" pathLength=\"1\" stroke-dasharray=\"0 78 83 5\" />\n",
      "<line class=\"traced\" x1=\"103.33\" y1=\"113.33\" x2=\"120.00\" y2=\"143.33\" stroke=\"black\" pathLength=\"1\" stroke-dasharray=\"0 79 83 4\" />\n",
      "<line class=\"traced\" x1=\"93.33\" y1=\"86.67\" x2=\"103.33\" y2=\"113.33\" stroke=\"black\" pathLength=\"1\" stroke-dasharray=\"0 80 83 3\" />\n",
      "<line class=\"traced\" x1=\"86.67\" y1=\"56.67\" x2=\"93.33\" y2=\"86.67\" stroke=\"black\" pathLength=\"1\" stroke-dasharray=\"0 81 83 2\" />\n",
      "<line class=\"traced\" x1=\"96.67\" y1=\"20.00\" x2=\"86.67\" y2=\"56.67\" stroke=\"black\" pathLength=\"1\" stroke-dasharray=\"0 82 83 1\" />\n",
      "<line class=\"traced\" x1=\"140.00\" y1=\"6.67\" x2=\"96.67\" y2=\"20.00\" stroke=\"black\" pathLength=\"1\" stroke-dasharray=\"0 83 83 0\" />\n",
      "<foreignObject x=\"0\" y=\"0\" width=\"100%\" height=\"100%\"><div xmlns=\"http://www.w3.org/1999/xhtml\" style=\"width 100%; height 100%; top: 0px; left:0px\"><div class=\"container\" style=\"width: 69.63574937364514%;height: 69.63574937364514%;left: 6.338751819201543%;top: 21.093771899522817%;\"><div class=\"circle\"></div><div class=\"container\" style=\"width: 100%;height: 100%;animation: spin 20.0s linear infinite;animation-delay: -15.069904463644546s;\"><div class=\"line\"></div><div class=\"container\" style=\"width: 13.270497397685766%;height: 13.270497397685766%;right: -6.635248698842883%;animation: spin 20.0s linear infinite reverse;\"><div class=\"circle\"></div><div class=\"container\" style=\"width: 100%;height: 100%;animation: spin 20.0s linear infinite reverse;animation-delay: -15.04545098680727s;\"><div class=\"line\"></div><div class=\"container\" style=\"width: 369.8928523164139%;height: 369.8928523164139%;right: -184.94642615820695%;animation: spin 20.0s linear infinite;\"><div class=\"circle\"></div><div class=\"container\" style=\"width: 100%;height: 100%;animation: spin 10.0s linear infinite;animation-delay: -5.490842314802242s;\"><div class=\"line\"></div><div class=\"container\" style=\"width: 21.626714887500288%;height: 21.626714887500288%;right: -10.813357443750144%;animation: spin 10.0s linear infinite reverse;\"><div class=\"circle\"></div><div class=\"container\" style=\"width: 100%;height: 100%;animation: spin 10.0s linear infinite reverse;animation-delay: -9.869562620223213s;\"><div class=\"line\"></div><div class=\"container\" style=\"width: 108.84203756507141%;height: 108.84203756507141%;right: -54.421018782535704%;animation: spin 10.0s linear infinite;\"><div class=\"circle\"></div><div class=\"container\" style=\"width: 100%;height: 100%;animation: spin 6.666666666666666s linear infinite;animation-delay: -2.6695130183246594s;\"><div class=\"line\"></div><div class=\"container\" style=\"width: 31.094313492101485%;height: 31.094313492101485%;right: -15.547156746050742%;animation: spin 6.666666666666666s linear infinite reverse;\"><div class=\"circle\"></div><div class=\"container\" style=\"width: 100%;height: 100%;animation: spin 6.666666666666666s linear infinite reverse;animation-delay: -5.062107519159904s;\"><div class=\"line\"></div><div class=\"container\" style=\"width: 147.2840409908951%;height: 147.2840409908951%;right: -73.64202049544755%;animation: spin 6.666666666666666s linear infinite;\"><div class=\"circle\"></div><div class=\"container\" style=\"width: 100%;height: 100%;animation: spin 5.0s linear infinite;animation-delay: -4.7991169711778445s;\"><div class=\"line\"></div><div class=\"container\" style=\"width: 124.87922552473705%;height: 124.87922552473705%;right: -62.439612762368526%;animation: spin 5.0s linear infinite reverse;\"><div class=\"circle\"></div><div class=\"container\" style=\"width: 100%;height: 100%;animation: spin 5.0s linear infinite reverse;animation-delay: -2.28876168641432s;\"><div class=\"line\"></div><div class=\"container\" style=\"width: 81.17431713130313%;height: 81.17431713130313%;right: -40.58715856565156%;animation: spin 5.0s linear infinite;\"><div class=\"circle\"></div><div class=\"container\" style=\"width: 100%;height: 100%;animation: spin 4.0s linear infinite;animation-delay: -0.7617554872654495s;\"><div class=\"line\"></div><div class=\"container\" style=\"width: 178.89920020367066%;height: 178.89920020367066%;right: -89.44960010183533%;animation: spin 4.0s linear infinite reverse;\"><div class=\"circle\"></div><div class=\"container\" style=\"width: 100%;height: 100%;animation: spin 4.0s linear infinite reverse;animation-delay: -1.0598633153073314s;\"><div class=\"line\"></div><div class=\"container\" style=\"width: 46.99976177359008%;height: 46.99976177359008%;right: -23.49988088679504%;animation: spin 4.0s linear infinite;\"><div class=\"circle\"></div><div class=\"container\" style=\"width: 100%;height: 100%;animation: spin 3.333333333333333s linear infinite;animation-delay: -3.30422478868428s;\"><div class=\"line\"></div><div class=\"container\" style=\"width: 109.7693285226079%;height: 109.7693285226079%;right: -54.88466426130395%;animation: spin 3.333333333333333s linear infinite reverse;\"><div class=\"circle\"></div><div class=\"container\" style=\"width: 100%;height: 100%;animation: spin 3.333333333333333s linear infinite reverse;animation-delay: -0.43845772042356845s;\"><div class=\"line\"></div><div class=\"container\" style=\"width: 148.60611746240792%;height: 148.60611746240792%;right: -74.30305873120396%;animation: spin 3.333333333333333s linear infinite;\"><div class=\"circle\"></div><div class=\"container\" style=\"width: 100%;height: 100%;animation: spin 2.8571428571428568s linear infinite;animation-delay: -0.6382084507568113s;\"><div class=\"line\"></div><div class=\"container\" style=\"width: 25.32064743012694%;height: 25.32064743012694%;right: -12.66032371506347%;animation: spin 2.8571428571428568s linear infinite reverse;\"><div class=\"circle\"></div><div class=\"container\" style=\"width: 100%;height: 100%;animation: spin 2.8571428571428568s linear infinite reverse;animation-delay: -2.611962844567712s;\"><div class=\"line\"></div><div class=\"container\" style=\"width: 303.02677024976686%;height: 303.02677024976686%;right: -151.51338512488343%;animation: spin 2.8571428571428568s linear infinite;\"><div class=\"circle\"></div><div class=\"container\" style=\"width: 100%;height: 100%;animation: spin 2.5s linear infinite;animation-delay: -2.3766619287843054s;\"><div class=\"line\"></div><div class=\"container\" style=\"width: 10.420312027789423%;height: 10.420312027789423%;right: -5.210156013894712%;animation: spin 2.5s linear infinite reverse;\"><div class=\"circle\"></div><div class=\"container\" style=\"width: 100%;height: 100%;animation: spin 2.5s linear infinite reverse;animation-delay: -0.20738194856381265s;\"><div class=\"line\"></div><div class=\"container\" style=\"width: 831.7831357466515%;height: 831.7831357466515%;right: -415.89156787332576%;animation: spin 2.5s linear infinite;\"><div class=\"circle\"></div><div class=\"container\" style=\"width: 100%;height: 100%;animation: spin 2.2222222222222223s linear infinite;animation-delay: -2.143175065672856s;\"><div class=\"line\"></div><div class=\"container\" style=\"width: 25.777712392068892%;height: 25.777712392068892%;right: -12.888856196034446%;animation: spin 2.2222222222222223s linear infinite reverse;\"><div class=\"circle\"></div><div class=\"container\" style=\"width: 100%;height: 100%;animation: spin 2.2222222222222223s linear infinite reverse;animation-delay: -1.6449571179353653s;\"><div class=\"line\"></div><div class=\"container\" style=\"width: 164.6315293148811%;height: 164.6315293148811%;right: -82.31576465744055%;animation: spin 2.2222222222222223s linear infinite;\"><div class=\"circle\"></div><div class=\"container\" style=\"width: 100%;height: 100%;animation: spin 2.0s linear infinite;animation-delay: -1.7199544795605568s;\"><div class=\"line\"></div><div class=\"container\" style=\"width: 73.44477902292206%;height: 73.44477902292206%;right: -36.72238951146103%;animation: spin 2.0s linear infinite reverse;\"><div class=\"circle\"></div><div class=\"container\" style=\"width: 100%;height: 100%;animation: spin 2.0s linear infinite reverse;animation-delay: -1.1871666479154368s;\"><div class=\"line\"></div><div class=\"container\" style=\"width: 40.415242693419486%;height: 40.415242693419486%;right: -20.207621346709743%;animation: spin 2.0s linear infinite;\"><div class=\"circle\"></div><div class=\"container\" style=\"width: 100%;height: 100%;animation: spin 1.8181818181818181s linear infinite;animation-delay: -1.5033829769048477s;\"><div class=\"line\"></div><div class=\"container\" style=\"width: 243.70486521266903%;height: 243.70486521266903%;right: -121.85243260633452%;animation: spin 1.8181818181818181s linear infinite reverse;\"><div class=\"circle\"></div><div class=\"container\" style=\"width: 100%;height: 100%;animation: spin 1.8181818181818181s linear infinite reverse;animation-delay: -0.4387576147292489s;\"><div class=\"line\"></div><div class=\"container\" style=\"width: 139.84718844579896%;height: 139.84718844579896%;right: -69.92359422289948%;animation: spin 1.8181818181818181s linear infinite;\"><div class=\"circle\"></div><div class=\"container\" style=\"width: 100%;height: 100%;animation: spin 1.6666666666666665s linear infinite;animation-delay: -0.24861696695133814s;\"><div class=\"line\"></div><div class=\"container\" style=\"width: 22.090120860094846%;height: 22.090120860094846%;right: -11.045060430047423%;animation: spin 1.6666666666666665s linear infinite reverse;\"><div class=\"circle\"></div><div class=\"container\" style=\"width: 100%;height: 100%;animation: spin 1.6666666666666665s linear infinite reverse;animation-delay: -1.0386372783231113s;\"><div class=\"line\"></div><div class=\"container\" style=\"width: 287.3060313473398%;height: 287.3060313473398%;right: -143.6530156736699%;animation: spin 1.6666666666666665s linear infinite;\"><div class=\"circle\"></div><div class=\"container\" style=\"width: 100%;height: 100%;animation: spin 1.5384615384615383s linear infinite;animation-delay: -0.6854402374096562s;\"><div class=\"line\"></div><div class=\"container\" style=\"width: 146.19759616605694%;height: 146.19759616605694%;right: -73.09879808302847%;animation: spin 1.5384615384615383s linear infinite reverse;\"><div class=\"circle\"></div><div class=\"container\" style=\"width: 100%;height: 100%;animation: spin 1.5384615384615383s linear infinite reverse;animation-delay: -0.8459437939537213s;\"><div class=\"line\"></div><div class=\"container\" style=\"width: 64.34802327819988%;height: 64.34802327819988%;right: -32.17401163909994%;animation: spin 1.5384615384615383s linear infinite;\"><div class=\"circle\"></div><div class=\"container\" style=\"width: 100%;height: 100%;animation: spin 1.4285714285714284s linear infinite;animation-delay: -0.6389210897425094s;\"><div class=\"line\"></div><div class=\"container\" style=\"width: 60.596413097473715%;height: 60.596413097473715%;right: -30.298206548736857%;animation: spin 1.4285714285714284s linear infinite reverse;\"><div class=\"circle\"></div><div class=\"container\" style=\"width: 100%;height: 100%;animation: spin 1.4285714285714284s linear infinite reverse;animation-delay: -0.5601951255467761s;\"><div class=\"line\"></div><div class=\"container\" style=\"width: 201.70335087175658%;height: 201.70335087175658%;right: -100.85167543587829%;animation: spin 1.4285714285714284s linear infinite;\"><div class=\"circle\"></div><div class=\"container\" style=\"width: 100%;height: 100%;animation: spin 1.3333333333333333s linear infinite;animation-delay: -0.6061933781620313s;\"><div class=\"line\"></div><div class=\"container\" style=\"width: 29.742497570123323%;height: 29.742497570123323%;right: -14.871248785061661%;animation: spin 1.3333333333333333s linear infinite reverse;\"><div class=\"circle\"></div><div class=\"container\" style=\"width: 100%;height: 100%;animation: spin 1.3333333333333333s linear infinite reverse;animation-delay: -0.9831731850768819s;\"><div class=\"line\"></div><div class=\"container\" style=\"width: 176.23468477948188%;height: 176.23468477948188%;right: -88.11734238974094%;animation: spin 1.3333333333333333s linear infinite;\"><div class=\"circle\"></div><div class=\"container\" style=\"width: 100%;height: 100%;animation: spin 1.25s linear infinite;animation-delay: -0.7723265109830029s;\"><div class=\"line\"></div><div class=\"container\" style=\"width: 140.3585534426443%;height: 140.3585534426443%;right: -70.17927672132215%;animation: spin 1.25s linear infinite reverse;\"><div class=\"circle\"></div><div class=\"container\" style=\"width: 100%;height: 100%;animation: spin 1.25s linear infinite reverse;animation-delay: -1.1373946875907344s;\"><div class=\"line\"></div><div class=\"container\" style=\"width: 95.78301252534551%;height: 95.78301252534551%;right: -47.891506262672756%;animation: spin 1.25s linear infinite;\"><div class=\"circle\"></div><div class=\"container\" style=\"width: 100%;height: 100%;animation: spin 1.176470588235294s linear infinite;animation-delay: -0.6084738352934598s;\"><div class=\"line\"></div><div class=\"container\" style=\"width: 96.00716414689607%;height: 96.00716414689607%;right: -48.00358207344804%;animation: spin 1.176470588235294s linear infinite reverse;\"><div class=\"circle\"></div><div class=\"container\" style=\"width: 100%;height: 100%;animation: spin 1.176470588235294s linear infinite reverse;animation-delay: -1.147795615261981s;\"><div class=\"line\"></div><div class=\"container\" style=\"width: 96.06163237564581%;height: 96.06163237564581%;right: -48.03081618782291%;animation: spin 1.176470588235294s linear infinite;\"><div class=\"circle\"></div><div class=\"container\" style=\"width: 100%;height: 100%;animation: spin 1.1111111111111112s linear infinite;animation-delay: -0.14370044962178963s;\"><div class=\"line\"></div><div class=\"container\" style=\"width: 97.2941127258657%;height: 97.2941127258657%;right: -48.64705636293285%;animation: spin 1.1111111111111112s linear infinite reverse;\"><div class=\"circle\"></div><div class=\"container\" style=\"width: 100%;height: 100%;animation: spin 1.1111111111111112s linear infinite reverse;animation-delay: -1.0088687741817972s;\"><div class=\"line\"></div><div class=\"container\" style=\"width: 137.32626086664746%;height: 137.32626086664746%;right: -68.66313043332373%;animation: spin 1.1111111111111112s linear infinite;\"><div class=\"circle\"></div><div class=\"container\" style=\"width: 100%;height: 100%;animation: spin 1.0526315789473684s linear infinite;animation-delay: -0.24265328373134581s;\"><div class=\"line\"></div><div class=\"container\" style=\"width: 144.00120441347104%;height: 144.00120441347104%;right: -72.00060220673552%;animation: spin 1.0526315789473684s linear infinite reverse;\"><div class=\"circle\"></div><div class=\"container\" style=\"width: 100%;height: 100%;animation: spin 1.0526315789473684s linear infinite reverse;animation-delay: -0.8459323776575414s;\"><div class=\"line\"></div><div class=\"container\" style=\"width: 26.505270822222748%;height: 26.505270822222748%;right: -13.252635411111374%;animation: spin 1.0526315789473684s linear infinite;\"><div class=\"circle\"></div><div class=\"container\" style=\"width: 100%;height: 100%;animation: spin 1.0s linear infinite;animation-delay: -0.69747106686726s;\"><div class=\"line\"></div><div class=\"container\" style=\"width: 273.0498679270715%;height: 273.0498679270715%;right: -136.52493396353574%;animation: spin 1.0s linear infinite reverse;\"><div class=\"circle\"></div><div class=\"container\" style=\"width: 100%;height: 100%;animation: spin 1.0s linear infinite reverse;animation-delay: -0.2124108098496459s;\"><div class=\"line\"></div><div class=\"container\" style=\"width: 38.05904637887201%;height: 38.05904637887201%;right: -19.029523189436006%;animation: spin 1.0s linear infinite;\"><div class=\"circle\"></div><div class=\"container\" style=\"width: 100%;height: 100%;animation: spin 0.9523809523809523s linear infinite;animation-delay: -0.5456687208320371s;\"><div class=\"line\"></div><div class=\"container\" style=\"width: 105.87934308779607%;height: 105.87934308779607%;right: -52.93967154389804%;animation: spin 0.9523809523809523s linear infinite reverse;\"><div class=\"circle\"></div><div class=\"container\" style=\"width: 100%;height: 100%;animation: spin 0.9523809523809523s linear infinite reverse;animation-delay: -0.34836022183804705s;\"><div class=\"line\"></div><div class=\"container\" style=\"width: 241.54881653264053%;height: 241.54881653264053%;right: -120.77440826632026%;animation: spin 0.9523809523809523s linear infinite;\"><div class=\"circle\"></div><div class=\"container\" style=\"width: 100%;height: 100%;animation: spin 0.9090909090909091s linear infinite;animation-delay: -0.5930046307278108s;\"><div class=\"line\"></div><div class=\"container\" style=\"width: 89.4924715776109%;height: 89.4924715776109%;right: -44.74623578880545%;animation: spin 0.9090909090909091s linear infinite reverse;\"><div class=\"circle\"></div><div class=\"container\" style=\"width: 100%;height: 100%;animation: spin 0.9090909090909091s linear infinite reverse;animation-delay: -0.3230475422373448s;\"><div class=\"line\"></div><div class=\"container\" style=\"width: 29.36918596633276%;height: 29.36918596633276%;right: -14.68459298316638%;animation: spin 0.9090909090909091s linear infinite;\"><div class=\"circle\"></div><div class=\"container\" style=\"width: 100%;height: 100%;animation: spin 0.8695652173913042s linear infinite;animation-delay: -0.3257835369451285s;\"><div class=\"line\"></div><div class=\"container\" style=\"width: 327.2230044248183%;height: 327.2230044248183%;right: -163.61150221240916%;animation: spin 0.8695652173913042s linear infinite reverse;\"><div class=\"circle\"></div><div class=\"container\" style=\"width: 100%;height: 100%;animation: spin 0.8695652173913042s linear infinite reverse;animation-delay: -0.06662154083942107s;\"><div class=\"line\"></div><div class=\"container\" style=\"width: 74.44168690761154%;height: 74.44168690761154%;right: -37.22084345380577%;animation: spin 0.8695652173913042s linear infinite;\"><div class=\"circle\"></div><div class=\"container\" style=\"width: 100%;height: 100%;animation: spin 0.8333333333333333s linear infinite;animation-delay: -0.6298255179893719s;\"><div class=\"line\"></div><div class=\"container\" style=\"width: 88.10948238432795%;height: 88.10948238432795%;right: -44.05474119216397%;animation: spin 0.8333333333333333s linear infinite reverse;\"><div class=\"circle\"></div><div class=\"container\" style=\"width: 100%;height: 100%;animation: spin 0.8333333333333333s linear infinite reverse;animation-delay: -0.2553344724319603s;\"><div class=\"line\"></div><div class=\"container\" style=\"width: 64.84215187337884%;height: 64.84215187337884%;right: -32.42107593668942%;animation: spin 0.8333333333333333s linear infinite;\"><div class=\"circle\"></div><div class=\"container\" style=\"width: 100%;height: 100%;animation: spin 0.8s linear infinite;animation-delay: -0.14682161368664132s;\"><div class=\"line\"></div><div class=\"container\" style=\"width: 84.70651520706024%;height: 84.70651520706024%;right: -42.35325760353012%;animation: spin 0.8s linear infinite reverse;\"><div class=\"circle\"></div><div class=\"container\" style=\"width: 100%;height: 100%;animation: spin 0.8s linear infinite reverse;animation-delay: -0.49326419967675117s;\"><div class=\"line\"></div><div class=\"container\" style=\"width: 93.62003242404232%;height: 93.62003242404232%;right: -46.81001621202116%;animation: spin 0.8s linear infinite;\"><div class=\"circle\"></div><div class=\"container\" style=\"width: 100%;height: 100%;animation: spin 0.7692307692307692s linear infinite;animation-delay: -0.6411502513820835s;\"><div class=\"line\"></div><div class=\"container\" style=\"width: 164.25270001619913%;height: 164.25270001619913%;right: -82.12635000809956%;animation: spin 0.7692307692307692s linear infinite reverse;\"><div class=\"circle\"></div><div class=\"container\" style=\"width: 100%;height: 100%;animation: spin 0.7692307692307692s linear infinite reverse;animation-delay: -0.580852756628248s;\"><div class=\"line\"></div><div class=\"container\" style=\"width: 84.2550954942487%;height: 84.2550954942487%;right: -42.12754774712435%;animation: spin 0.7692307692307692s linear infinite;\"><div class=\"circle\"></div><div class=\"container\" style=\"width: 100%;height: 100%;animation: spin 0.7407407407407407s linear infinite;animation-delay: -0.5656529319205683s;\"><div class=\"line\"></div><div class=\"container\" style=\"width: 94.189899634665%;height: 94.189899634665%;right: -47.0949498173325%;animation: spin 0.7407407407407407s linear infinite reverse;\"><div class=\"circle\"></div><div class=\"container\" style=\"width: 100%;height: 100%;animation: spin 0.7407407407407407s linear infinite reverse;animation-delay: -0.004842147084385906s;\"><div class=\"line\"></div><div class=\"container\" style=\"width: 117.47672585768754%;height: 117.47672585768754%;right: -58.73836292884377%;animation: spin 0.7407407407407407s linear infinite;\"><div class=\"circle\"></div><div class=\"container\" style=\"width: 100%;height: 100%;animation: spin 0.7142857142857142s linear infinite;animation-delay: -0.17264765985716274s;\"><div class=\"line\"></div><div class=\"container\" style=\"width: 140.50602928561105%;height: 140.50602928561105%;right: -70.25301464280552%;animation: spin 0.7142857142857142s linear infinite reverse;\"><div class=\"circle\"></div><div class=\"container\" style=\"width: 100%;height: 100%;animation: spin 0.7142857142857142s linear infinite reverse;animation-delay: -0.4938704358998811s;\"><div class=\"line\"></div><div class=\"container\" style=\"width: 65.33939552768337%;height: 65.33939552768337%;right: -32.66969776384168%;animation: spin 0.7142857142857142s linear infinite;\"><div class=\"circle\"></div><div class=\"container\" style=\"width: 100%;height: 100%;animation: spin 0.689655172413793s linear infinite;animation-delay: -0.16475556411343523s;\"><div class=\"line\"></div><div class=\"container\" style=\"width: 112.84587760632317%;height: 112.84587760632317%;right: -56.422938803161585%;animation: spin 0.689655172413793s linear infinite reverse;\"><div class=\"circle\"></div><div class=\"container\" style=\"width: 100%;height: 100%;animation: spin 0.689655172413793s linear infinite reverse;animation-delay: -0.4857968504382867s;\"><div class=\"line\"></div><div class=\"container\" style=\"width: 77.55958499246833%;height: 77.55958499246833%;right: -38.779792496234165%;animation: spin 0.689655172413793s linear infinite;\"><div class=\"circle\"></div><div class=\"container\" style=\"width: 100%;height: 100%;animation: spin 0.6666666666666666s linear infinite;animation-delay: -0.640394949287717s;\"><div class=\"line\"></div><div class=\"container\" style=\"width: 106.66301993378424%;height: 106.66301993378424%;right: -53.33150996689212%;animation: spin 0.6666666666666666s linear infinite reverse;\"><div class=\"circle\"></div><div class=\"container\" style=\"width: 100%;height: 100%;animation: spin 0.6666666666666666s linear infinite reverse;animation-delay: -0.4531618517371037s;\"><div class=\"line\"></div><div class=\"container\" style=\"width: 28.655215878520853%;height: 28.655215878520853%;right: -14.327607939260426%;animation: spin 0.6666666666666666s linear infinite;\"><div class=\"circle\"></div><div class=\"container\" style=\"width: 100%;height: 100%;animation: spin 0.6451612903225806s linear infinite;animation-delay: -0.39771679393129117s;\"><div class=\"line\"></div><div class=\"container\" style=\"width: 447.8121532116371%;height: 447.8121532116371%;right: -223.90607660581855%;animation: spin 0.6451612903225806s linear infinite reverse;\"><div class=\"circle\"></div><div class=\"container\" style=\"width: 100%;height: 100%;animation: spin 0.6451612903225806s linear infinite reverse;animation-delay: -0.4479097020541599s;\"><div class=\"line\"></div><div class=\"container\" style=\"width: 73.91459672477623%;height: 73.91459672477623%;right: -36.957298362388116%;animation: spin 0.6451612903225806s linear infinite;\"><div class=\"circle\"></div><div class=\"container\" style=\"width: 100%;height: 100%;animation: spin 0.625s linear infinite;animation-delay: -0.12091256528874174s;\"><div class=\"line\"></div><div class=\"container\" style=\"width: 176.48303885565252%;height: 176.48303885565252%;right: -88.24151942782626%;animation: spin 0.625s linear infinite reverse;\"><div class=\"circle\"></div><div class=\"container\" style=\"width: 100%;height: 100%;animation: spin 0.625s linear infinite reverse;animation-delay: -0.5162337417796746s;\"><div class=\"line\"></div><div class=\"container\" style=\"width: 56.426502142578585%;height: 56.426502142578585%;right: -28.213251071289292%;animation: spin 0.625s linear infinite;\"><div class=\"circle\"></div><div class=\"container\" style=\"width: 100%;height: 100%;animation: spin 0.606060606060606s linear infinite;animation-delay: -0.17634522362724395s;\"><div class=\"line\"></div><div class=\"container\" style=\"width: 132.46100404129922%;height: 132.46100404129922%;right: -66.23050202064961%;animation: spin 0.606060606060606s linear infinite reverse;\"><div class=\"circle\"></div><div class=\"container\" style=\"width: 100%;height: 100%;animation: spin 0.606060606060606s linear infinite reverse;animation-delay: -0.4604484189625546s;\"><div class=\"line\"></div><div class=\"container\" style=\"width: 53.143738436167034%;height: 53.143738436167034%;right: -26.571869218083517%;animation: spin 0.606060606060606s linear infinite;\"><div class=\"circle\"></div><div class=\"container\" style=\"width: 100%;height: 100%;animation: spin 0.588235294117647s linear infinite;animation-delay: -0.5394031919201898s;\"><div class=\"line\"></div><div class=\"container\" style=\"width: 12.705256089771359%;height: 12.705256089771359%;right: -6.352628044885679%;animation: spin 0.588235294117647s linear infinite reverse;\"><div class=\"circle\"></div><div class=\"container\" style=\"width: 100%;height: 100%;animation: spin 0.588235294117647s linear infinite reverse;animation-delay: -0.2647377532188091s;\"><div class=\"line\"></div><div class=\"container\" style=\"width: 601.5380352753647%;height: 601.5380352753647%;right: -300.76901763768234%;animation: spin 0.588235294117647s linear infinite;\"><div class=\"circle\"></div><div class=\"container\" style=\"width: 100%;height: 100%;animation: spin 0.5714285714285714s linear infinite;animation-delay: -0.23578602089634504s;\"><div class=\"line\"></div><div class=\"container\" style=\"width: 20.517574545939034%;height: 20.517574545939034%;right: -10.258787272969517%;animation: spin 0.5714285714285714s linear infinite reverse;\"><div class=\"circle\"></div><div class=\"container\" style=\"width: 100%;height: 100%;animation: spin 0.5714285714285714s linear infinite reverse;animation-delay: -0.39387560214407263s;\"><div class=\"line\"></div><div class=\"container\" style=\"width: 663.8968650297244%;height: 663.8968650297244%;right: -331.9484325148622%;animation: spin 0.5714285714285714s linear infinite;\"><div class=\"circle\"></div><div class=\"container\" style=\"width: 100%;height: 100%;animation: spin 0.5555555555555556s linear infinite;animation-delay: -0.4252966911152117s;\"><div class=\"line\"></div><div class=\"container\" style=\"width: 162.8915044158507%;height: 162.8915044158507%;right: -81.44575220792535%;animation: spin 0.5555555555555556s linear infinite reverse;\"><div class=\"circle\"></div><div class=\"container\" style=\"width: 100%;height: 100%;animation: spin 0.5555555555555556s linear infinite reverse;animation-delay: -0.28229207774361625s;\"><div class=\"line\"></div><div class=\"container\" style=\"width: 68.1627382897371%;height: 68.1627382897371%;right: -34.08136914486855%;animation: spin 0.5555555555555556s linear infinite;\"><div class=\"circle\"></div><div class=\"container\" style=\"width: 100%;height: 100%;animation: spin 0.5405405405405405s linear infinite;animation-delay: -0.012137568942618398s;\"><div class=\"line\"></div><div class=\"container\" style=\"width: 132.35395293415152%;height: 132.35395293415152%;right: -66.17697646707576%;animation: spin 0.5405405405405405s linear infinite reverse;\"><div class=\"circle\"></div><div class=\"container\" style=\"width: 100%;height: 100%;animation: spin 0.5405405405405405s linear infinite reverse;animation-delay: -0.2708047646743371s;\"><div class=\"line\"></div><div class=\"container\" style=\"width: 131.01561048386918%;height: 131.01561048386918%;right: -65.50780524193459%;animation: spin 0.5405405405405405s linear infinite;\"><div class=\"circle\"></div><div class=\"container\" style=\"width: 100%;height: 100%;animation: spin 0.5263157894736842s linear infinite;animation-delay: -0.4140352278120722s;\"><div class=\"line\"></div><div class=\"container\" style=\"width: 132.5867691825352%;height: 132.5867691825352%;right: -66.2933845912676%;animation: spin 0.5263157894736842s linear infinite reverse;\"><div class=\"circle\"></div><div class=\"container\" style=\"width: 100%;height: 100%;animation: spin 0.5263157894736842s linear infinite reverse;animation-delay: -0.22358039132846197s;\"><div class=\"line\"></div><div class=\"container\" style=\"width: 58.90628286480223%;height: 58.90628286480223%;right: -29.453141432401114%;animation: spin 0.5263157894736842s linear infinite;\"><div class=\"circle\"></div><div class=\"container\" style=\"width: 100%;height: 100%;animation: spin 0.5128205128205128s linear infinite;animation-delay: -0.10466467747397772s;\"><div class=\"line\"></div><div class=\"container\" style=\"width: 78.26495815849678%;height: 78.26495815849678%;right: -39.13247907924839%;animation: spin 0.5128205128205128s linear infinite reverse;\"><div class=\"circle\"></div><div class=\"container\" style=\"width: 100%;height: 100%;animation: spin 0.5128205128205128s linear infinite reverse;animation-delay: -0.4583059018455903s;\"><div class=\"line\"></div><div class=\"container\" style=\"width: 278.52927899411617%;height: 278.52927899411617%;right: -139.26463949705808%;animation: spin 0.5128205128205128s linear infinite;\"><div class=\"circle\"></div><div class=\"container\" style=\"width: 100%;height: 100%;animation: spin 0.5s linear infinite;animation-delay: -0.1637147112577965s;\"><div class=\"line\"></div><div class=\"container\" style=\"width: 54.83477025899867%;height: 54.83477025899867%;right: -27.417385129499333%;animation: spin 0.5s linear infinite reverse;\"><div class=\"circle\"></div><div class=\"container\" style=\"width: 100%;height: 100%;animation: spin 0.5s linear infinite reverse;animation-delay: -0.08715758488795777s;\"><div class=\"line\"></div><div class=\"container\" style=\"width: 129.7694405051295%;height: 129.7694405051295%;right: -64.88472025256475%;animation: spin 0.5s linear infinite;\"><div class=\"circle\"></div><div class=\"container\" style=\"width: 100%;height: 100%;animation: spin 0.4878048780487804s linear infinite;animation-delay: -0.3577993640709982s;\"><div class=\"line\"></div><div class=\"container\" style=\"width: 104.48555855972852%;height: 104.48555855972852%;right: -52.24277927986426%;animation: spin 0.4878048780487804s linear infinite reverse;\"><div class=\"circle\"></div><div class=\"container\" style=\"width: 100%;height: 100%;animation: spin 0.4878048780487804s linear infinite reverse;animation-delay: -0.07755309013232131s;\"><div class=\"line\"></div><div class=\"tracer\"></div></div></div></div></div></div></div></div></div></div></div></div></div></div></div></div></div></div></div></div></div></div></div></div></div></div></div></div></div></div></div></div></div></div></div></div></div></div></div></div></div></div></div></div></div></div></div></div></div></div></div></div></div></div></div></div></div></div></div></div></div></div></div></div></div></div></div></div></div></div></div></div></div></div></div></div></div></div></div></div></div></div></div></div></div></div></div></div></div></div></div></div></div></div></div></div></div></div></div></div></div></div></div></div></div></div></div></div></div></div></div></div></div></div></div></div></div></div></div></div></div></div></div></div></div></div></div></div></div></div></div></div></div></div></div></div></div></div></div></div></div></div></div></div></div></div></div></div></div></div></div></div></div></div></div></div></div></div></div></div></div></div></div></div></div></div></foreignObject></svg>\n"
     ]
    }
   ],
   "source": [
    "# Putting together the SVG\n",
    "svg_file = '<svg viewBox=\"0 0 500 500\" xmlns=\"http://www.w3.org/2000/svg\" width=\"100%\" height=\"100%\"><style>\\n'\n",
    "svg_file += line_anim_css + epicycle_css\n",
    "svg_file += '</style>\\n'\n",
    "\n",
    "svg_file += svg_lines\n",
    "\n",
    "svg_file += '<foreignObject x=\"0\" y=\"0\" width=\"100%\" height=\"100%\"><div xmlns=\"http://www.w3.org/1999/xhtml\" style=\"width 100%; height 100%; top: 0px; left:0px\">'\n",
    "svg_file += full_divs + \"</div></foreignObject></svg>\"\n",
    "\n",
    "print(svg_file)"
   ]
  },
  {
   "cell_type": "code",
   "execution_count": null,
   "id": "2f9c1ecd",
   "metadata": {},
   "outputs": [],
   "source": []
  }
 ],
 "metadata": {
  "kernelspec": {
   "display_name": "Python 3 (ipykernel)",
   "language": "python",
   "name": "python3"
  },
  "language_info": {
   "codemirror_mode": {
    "name": "ipython",
    "version": 3
   },
   "file_extension": ".py",
   "mimetype": "text/x-python",
   "name": "python",
   "nbconvert_exporter": "python",
   "pygments_lexer": "ipython3",
   "version": "3.8.5"
  }
 },
 "nbformat": 4,
 "nbformat_minor": 5
}
